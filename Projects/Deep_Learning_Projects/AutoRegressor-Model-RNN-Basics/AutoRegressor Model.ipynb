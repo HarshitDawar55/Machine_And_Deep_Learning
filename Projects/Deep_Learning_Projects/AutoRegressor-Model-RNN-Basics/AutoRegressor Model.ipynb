{
 "cells": [
  {
   "cell_type": "markdown",
   "metadata": {},
   "source": [
    "# Auto Regressor Model by Mr. Harshit Dawar\n",
    "* This is the basic fundamental which should be clear before implementing RNN.\n",
    "* It is the backbone of the correct/right Forecast which is required by RNN."
   ]
  },
  {
   "cell_type": "code",
   "execution_count": null,
   "metadata": {},
   "outputs": [],
   "source": []
  }
 ],
 "metadata": {
  "kernelspec": {
   "display_name": "Python 3",
   "language": "python",
   "name": "python3"
  },
  "language_info": {
   "codemirror_mode": {
    "name": "ipython",
    "version": 3
   },
   "file_extension": ".py",
   "mimetype": "text/x-python",
   "name": "python",
   "nbconvert_exporter": "python",
   "pygments_lexer": "ipython3",
   "version": "3.7.9"
  }
 },
 "nbformat": 4,
 "nbformat_minor": 4
}
