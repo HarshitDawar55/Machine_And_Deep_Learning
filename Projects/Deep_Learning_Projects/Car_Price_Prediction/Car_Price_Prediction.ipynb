{
 "cells": [
  {
   "cell_type": "markdown",
   "metadata": {},
   "source": [
    "# <font color = 'red'>  Car Amount Prediction using Artificial Neural Nets</font>  <font color = \"darkgreen\">*By Harshit Dawar* </font>"
   ]
  },
  {
   "cell_type": "markdown",
   "metadata": {},
   "source": [
    "## <font color = 'brown'>Importing Required Libraries"
   ]
  },
  {
   "cell_type": "code",
   "execution_count": 18,
   "metadata": {},
   "outputs": [],
   "source": [
    "import pandas as pd            # For using dataframes.\n",
    "import numpy as np             # For using scientific arrays.\n",
    "import matplotlib.pyplot as plt    # For plotting the visuals.\n",
    "from sklearn.preprocessing import MinMaxScaler # For normalizing dataset.\n",
    "from sklearn.model_selection import train_test_split    # For training & Testing Data.\n",
    "import tensorflow.keras                                     # For using artificial neural networks.\n",
    "from keras.models import Sequential                         # For building a Sequential model.\n",
    "from keras.layers import Dense                              # For Building a Dense Net"
   ]
  },
  {
   "cell_type": "markdown",
   "metadata": {},
   "source": [
    "## <font color = 'brown'>Importing Dataset "
   ]
  },
  {
   "cell_type": "code",
   "execution_count": 2,
   "metadata": {},
   "outputs": [],
   "source": [
    "car_data = pd.read_csv(\"./Downloads/DL-and-ML-Practical-Tutorials-Package/DL and ML Practical Tutorials - Package/Project 1/Car_Purchasing_Data.csv\", encoding = \"ISO-8859-1\")"
   ]
  },
  {
   "cell_type": "code",
   "execution_count": 3,
   "metadata": {},
   "outputs": [
    {
     "data": {
      "text/html": [
       "<div>\n",
       "<style scoped>\n",
       "    .dataframe tbody tr th:only-of-type {\n",
       "        vertical-align: middle;\n",
       "    }\n",
       "\n",
       "    .dataframe tbody tr th {\n",
       "        vertical-align: top;\n",
       "    }\n",
       "\n",
       "    .dataframe thead th {\n",
       "        text-align: right;\n",
       "    }\n",
       "</style>\n",
       "<table border=\"1\" class=\"dataframe\">\n",
       "  <thead>\n",
       "    <tr style=\"text-align: right;\">\n",
       "      <th></th>\n",
       "      <th>Customer Name</th>\n",
       "      <th>Customer e-mail</th>\n",
       "      <th>Country</th>\n",
       "      <th>Gender</th>\n",
       "      <th>Age</th>\n",
       "      <th>Annual Salary</th>\n",
       "      <th>Credit Card Debt</th>\n",
       "      <th>Net Worth</th>\n",
       "      <th>Car Purchase Amount</th>\n",
       "    </tr>\n",
       "  </thead>\n",
       "  <tbody>\n",
       "    <tr>\n",
       "      <td>0</td>\n",
       "      <td>Martina Avila</td>\n",
       "      <td>cubilia.Curae.Phasellus@quisaccumsanconvallis.edu</td>\n",
       "      <td>Bulgaria</td>\n",
       "      <td>0</td>\n",
       "      <td>41.851720</td>\n",
       "      <td>62812.09301</td>\n",
       "      <td>11609.380910</td>\n",
       "      <td>238961.2505</td>\n",
       "      <td>35321.45877</td>\n",
       "    </tr>\n",
       "    <tr>\n",
       "      <td>1</td>\n",
       "      <td>Harlan Barnes</td>\n",
       "      <td>eu.dolor@diam.co.uk</td>\n",
       "      <td>Belize</td>\n",
       "      <td>0</td>\n",
       "      <td>40.870623</td>\n",
       "      <td>66646.89292</td>\n",
       "      <td>9572.957136</td>\n",
       "      <td>530973.9078</td>\n",
       "      <td>45115.52566</td>\n",
       "    </tr>\n",
       "    <tr>\n",
       "      <td>2</td>\n",
       "      <td>Naomi Rodriquez</td>\n",
       "      <td>vulputate.mauris.sagittis@ametconsectetueradip...</td>\n",
       "      <td>Algeria</td>\n",
       "      <td>1</td>\n",
       "      <td>43.152897</td>\n",
       "      <td>53798.55112</td>\n",
       "      <td>11160.355060</td>\n",
       "      <td>638467.1773</td>\n",
       "      <td>42925.70921</td>\n",
       "    </tr>\n",
       "    <tr>\n",
       "      <td>3</td>\n",
       "      <td>Jade Cunningham</td>\n",
       "      <td>malesuada@dignissim.com</td>\n",
       "      <td>Cook Islands</td>\n",
       "      <td>1</td>\n",
       "      <td>58.271369</td>\n",
       "      <td>79370.03798</td>\n",
       "      <td>14426.164850</td>\n",
       "      <td>548599.0524</td>\n",
       "      <td>67422.36313</td>\n",
       "    </tr>\n",
       "    <tr>\n",
       "      <td>4</td>\n",
       "      <td>Cedric Leach</td>\n",
       "      <td>felis.ullamcorper.viverra@egetmollislectus.net</td>\n",
       "      <td>Brazil</td>\n",
       "      <td>1</td>\n",
       "      <td>57.313749</td>\n",
       "      <td>59729.15130</td>\n",
       "      <td>5358.712177</td>\n",
       "      <td>560304.0671</td>\n",
       "      <td>55915.46248</td>\n",
       "    </tr>\n",
       "  </tbody>\n",
       "</table>\n",
       "</div>"
      ],
      "text/plain": [
       "     Customer Name                                    Customer e-mail  \\\n",
       "0    Martina Avila  cubilia.Curae.Phasellus@quisaccumsanconvallis.edu   \n",
       "1    Harlan Barnes                                eu.dolor@diam.co.uk   \n",
       "2  Naomi Rodriquez  vulputate.mauris.sagittis@ametconsectetueradip...   \n",
       "3  Jade Cunningham                            malesuada@dignissim.com   \n",
       "4     Cedric Leach     felis.ullamcorper.viverra@egetmollislectus.net   \n",
       "\n",
       "        Country  Gender        Age  Annual Salary  Credit Card Debt  \\\n",
       "0      Bulgaria       0  41.851720    62812.09301      11609.380910   \n",
       "1        Belize       0  40.870623    66646.89292       9572.957136   \n",
       "2       Algeria       1  43.152897    53798.55112      11160.355060   \n",
       "3  Cook Islands       1  58.271369    79370.03798      14426.164850   \n",
       "4        Brazil       1  57.313749    59729.15130       5358.712177   \n",
       "\n",
       "     Net Worth  Car Purchase Amount  \n",
       "0  238961.2505          35321.45877  \n",
       "1  530973.9078          45115.52566  \n",
       "2  638467.1773          42925.70921  \n",
       "3  548599.0524          67422.36313  \n",
       "4  560304.0671          55915.46248  "
      ]
     },
     "execution_count": 3,
     "metadata": {},
     "output_type": "execute_result"
    }
   ],
   "source": [
    "car_data.head()    # For having a glance at the data."
   ]
  },
  {
   "cell_type": "markdown",
   "metadata": {},
   "source": [
    "## <font color = 'brown'> Cleaning the Data"
   ]
  },
  {
   "cell_type": "code",
   "execution_count": 4,
   "metadata": {},
   "outputs": [],
   "source": [
    "x = car_data.drop(['Customer Name','Customer e-mail', 'Country', \"Car Purchase Amount\"], axis = 1)      # Required Features\n",
    "y = car_data['Car Purchase Amount']           # Required Outputs"
   ]
  },
  {
   "cell_type": "markdown",
   "metadata": {},
   "source": [
    "## <font color = \"brown\"> Normalizing Data"
   ]
  },
  {
   "cell_type": "code",
   "execution_count": 5,
   "metadata": {},
   "outputs": [],
   "source": [
    "scale = MinMaxScaler()\n",
    "x_scaled = scale.fit_transform(x)       # Normalizing Input data\n",
    "y = y.values.reshape(500,1)             # reshaping it to make the shape of output data from (500,) to (500,1), otherwise fit_transorm will not work\n",
    "y_scaled = scale.fit_transform(y)"
   ]
  },
  {
   "cell_type": "markdown",
   "metadata": {},
   "source": [
    "## <font color = \"brown\"> Training The Model"
   ]
  },
  {
   "cell_type": "code",
   "execution_count": 6,
   "metadata": {},
   "outputs": [],
   "source": [
    "x_train, x_test, y_train, y_test = train_test_split(x_scaled, y_scaled, test_size = 0.2)"
   ]
  },
  {
   "cell_type": "markdown",
   "metadata": {},
   "source": [
    "## <font color = \"brown\"> Building The Model"
   ]
  },
  {
   "cell_type": "code",
   "execution_count": 16,
   "metadata": {},
   "outputs": [],
   "source": [
    "model = Sequential()"
   ]
  },
  {
   "cell_type": "code",
   "execution_count": 17,
   "metadata": {},
   "outputs": [],
   "source": [
    "model.add(Dense(100, input_dim = 5, activation = 'relu'))   # relu = rectified linear unit\n",
    "model.add(Dense(100, input_dim = 5, activation = 'relu'))\n",
    "model.add(Dense(1, activation = 'linear'))"
   ]
  },
  {
   "cell_type": "code",
   "execution_count": 9,
   "metadata": {},
   "outputs": [
    {
     "name": "stdout",
     "output_type": "stream",
     "text": [
      "_________________________________________________________________\n",
      "Layer (type)                 Output Shape              Param #   \n",
      "=================================================================\n",
      "dense_1 (Dense)              (None, 100)               600       \n",
      "_________________________________________________________________\n",
      "dense_2 (Dense)              (None, 100)               10100     \n",
      "_________________________________________________________________\n",
      "dense_3 (Dense)              (None, 1)                 101       \n",
      "=================================================================\n",
      "Total params: 10,801\n",
      "Trainable params: 10,801\n",
      "Non-trainable params: 0\n",
      "_________________________________________________________________\n"
     ]
    }
   ],
   "source": [
    "model.summary()\n",
    "# we are having 600 params first becuase 5 inputs * 100 neurons + 100 biases(corresponding to each neuron)"
   ]
  },
  {
   "cell_type": "code",
   "execution_count": 10,
   "metadata": {},
   "outputs": [
    {
     "name": "stdout",
     "output_type": "stream",
     "text": [
      "WARNING:tensorflow:From /opt/anaconda3/lib/python3.7/site-packages/keras/optimizers.py:790: The name tf.train.Optimizer is deprecated. Please use tf.compat.v1.train.Optimizer instead.\n",
      "\n"
     ]
    }
   ],
   "source": [
    "model.compile(optimizer='adam', loss = 'mean_squared_error', metrics = [\"accuracy\"])"
   ]
  },
  {
   "cell_type": "code",
   "execution_count": 11,
   "metadata": {},
   "outputs": [
    {
     "name": "stdout",
     "output_type": "stream",
     "text": [
      "WARNING:tensorflow:From /opt/anaconda3/lib/python3.7/site-packages/keras/backend/tensorflow_backend.py:986: The name tf.assign_add is deprecated. Please use tf.compat.v1.assign_add instead.\n",
      "\n",
      "WARNING:tensorflow:From /opt/anaconda3/lib/python3.7/site-packages/keras/backend/tensorflow_backend.py:973: The name tf.assign is deprecated. Please use tf.compat.v1.assign instead.\n",
      "\n",
      "Train on 340 samples, validate on 60 samples\n",
      "Epoch 1/55\n",
      "340/340 [==============================] - 0s 1ms/step - loss: 0.1673 - acc: 0.0000e+00 - val_loss: 0.0450 - val_acc: 0.0000e+00\n",
      "Epoch 2/55\n",
      "340/340 [==============================] - 0s 64us/step - loss: 0.0362 - acc: 0.0029 - val_loss: 0.0386 - val_acc: 0.0000e+00\n",
      "Epoch 3/55\n",
      "340/340 [==============================] - 0s 65us/step - loss: 0.0335 - acc: 0.0029 - val_loss: 0.0376 - val_acc: 0.0000e+00\n",
      "Epoch 4/55\n",
      "340/340 [==============================] - 0s 77us/step - loss: 0.0191 - acc: 0.0029 - val_loss: 0.0116 - val_acc: 0.0000e+00\n",
      "Epoch 5/55\n",
      "340/340 [==============================] - 0s 64us/step - loss: 0.0088 - acc: 0.0029 - val_loss: 0.0069 - val_acc: 0.0000e+00\n",
      "Epoch 6/55\n",
      "340/340 [==============================] - 0s 73us/step - loss: 0.0078 - acc: 0.0029 - val_loss: 0.0055 - val_acc: 0.0000e+00\n",
      "Epoch 7/55\n",
      "340/340 [==============================] - 0s 76us/step - loss: 0.0051 - acc: 0.0029 - val_loss: 0.0039 - val_acc: 0.0000e+00\n",
      "Epoch 8/55\n",
      "340/340 [==============================] - 0s 67us/step - loss: 0.0043 - acc: 0.0029 - val_loss: 0.0032 - val_acc: 0.0000e+00\n",
      "Epoch 9/55\n",
      "340/340 [==============================] - 0s 73us/step - loss: 0.0033 - acc: 0.0029 - val_loss: 0.0026 - val_acc: 0.0000e+00\n",
      "Epoch 10/55\n",
      "340/340 [==============================] - 0s 65us/step - loss: 0.0027 - acc: 0.0029 - val_loss: 0.0020 - val_acc: 0.0000e+00\n",
      "Epoch 11/55\n",
      "340/340 [==============================] - 0s 72us/step - loss: 0.0023 - acc: 0.0029 - val_loss: 0.0017 - val_acc: 0.0000e+00\n",
      "Epoch 12/55\n",
      "340/340 [==============================] - 0s 84us/step - loss: 0.0019 - acc: 0.0029 - val_loss: 0.0015 - val_acc: 0.0000e+00\n",
      "Epoch 13/55\n",
      "340/340 [==============================] - 0s 65us/step - loss: 0.0017 - acc: 0.0029 - val_loss: 0.0011 - val_acc: 0.0000e+00\n",
      "Epoch 14/55\n",
      "340/340 [==============================] - 0s 88us/step - loss: 0.0015 - acc: 0.0029 - val_loss: 9.7660e-04 - val_acc: 0.0000e+00\n",
      "Epoch 15/55\n",
      "340/340 [==============================] - 0s 177us/step - loss: 0.0014 - acc: 0.0029 - val_loss: 8.2541e-04 - val_acc: 0.0000e+00\n",
      "Epoch 16/55\n",
      "340/340 [==============================] - 0s 159us/step - loss: 0.0013 - acc: 0.0029 - val_loss: 7.2817e-04 - val_acc: 0.0000e+00\n",
      "Epoch 17/55\n",
      "340/340 [==============================] - 0s 79us/step - loss: 0.0012 - acc: 0.0029 - val_loss: 6.2947e-04 - val_acc: 0.0000e+00\n",
      "Epoch 18/55\n",
      "340/340 [==============================] - 0s 85us/step - loss: 0.0011 - acc: 0.0029 - val_loss: 5.7837e-04 - val_acc: 0.0000e+00\n",
      "Epoch 19/55\n",
      "340/340 [==============================] - 0s 77us/step - loss: 9.9067e-04 - acc: 0.0029 - val_loss: 5.0777e-04 - val_acc: 0.0000e+00\n",
      "Epoch 20/55\n",
      "340/340 [==============================] - 0s 73us/step - loss: 9.0079e-04 - acc: 0.0029 - val_loss: 4.5399e-04 - val_acc: 0.0000e+00\n",
      "Epoch 21/55\n",
      "340/340 [==============================] - 0s 60us/step - loss: 8.1996e-04 - acc: 0.0029 - val_loss: 4.2335e-04 - val_acc: 0.0000e+00\n",
      "Epoch 22/55\n",
      "340/340 [==============================] - 0s 74us/step - loss: 7.3585e-04 - acc: 0.0029 - val_loss: 3.6320e-04 - val_acc: 0.0000e+00\n",
      "Epoch 23/55\n",
      "340/340 [==============================] - 0s 60us/step - loss: 6.5095e-04 - acc: 0.0029 - val_loss: 3.2351e-04 - val_acc: 0.0000e+00\n",
      "Epoch 24/55\n",
      "340/340 [==============================] - 0s 67us/step - loss: 5.8873e-04 - acc: 0.0029 - val_loss: 2.8272e-04 - val_acc: 0.0000e+00\n",
      "Epoch 25/55\n",
      "340/340 [==============================] - 0s 82us/step - loss: 5.0083e-04 - acc: 0.0029 - val_loss: 2.5731e-04 - val_acc: 0.0000e+00\n",
      "Epoch 26/55\n",
      "340/340 [==============================] - 0s 109us/step - loss: 4.2837e-04 - acc: 0.0029 - val_loss: 2.0881e-04 - val_acc: 0.0000e+00\n",
      "Epoch 27/55\n",
      "340/340 [==============================] - 0s 108us/step - loss: 3.6004e-04 - acc: 0.0029 - val_loss: 1.7538e-04 - val_acc: 0.0000e+00\n",
      "Epoch 28/55\n",
      "340/340 [==============================] - 0s 100us/step - loss: 2.9280e-04 - acc: 0.0029 - val_loss: 1.6826e-04 - val_acc: 0.0000e+00\n",
      "Epoch 29/55\n",
      "340/340 [==============================] - 0s 78us/step - loss: 2.4136e-04 - acc: 0.0029 - val_loss: 1.2684e-04 - val_acc: 0.0000e+00\n",
      "Epoch 30/55\n",
      "340/340 [==============================] - 0s 60us/step - loss: 1.9467e-04 - acc: 0.0029 - val_loss: 1.1630e-04 - val_acc: 0.0000e+00\n",
      "Epoch 31/55\n",
      "340/340 [==============================] - 0s 47us/step - loss: 1.5748e-04 - acc: 0.0029 - val_loss: 8.8682e-05 - val_acc: 0.0000e+00\n",
      "Epoch 32/55\n",
      "340/340 [==============================] - 0s 68us/step - loss: 1.2494e-04 - acc: 0.0029 - val_loss: 7.2136e-05 - val_acc: 0.0000e+00\n",
      "Epoch 33/55\n",
      "340/340 [==============================] - 0s 52us/step - loss: 1.0087e-04 - acc: 0.0029 - val_loss: 5.8929e-05 - val_acc: 0.0000e+00\n",
      "Epoch 34/55\n",
      "340/340 [==============================] - 0s 52us/step - loss: 7.9742e-05 - acc: 0.0029 - val_loss: 4.9821e-05 - val_acc: 0.0000e+00\n",
      "Epoch 35/55\n",
      "340/340 [==============================] - 0s 45us/step - loss: 6.3829e-05 - acc: 0.0029 - val_loss: 4.7075e-05 - val_acc: 0.0000e+00\n",
      "Epoch 36/55\n",
      "340/340 [==============================] - 0s 53us/step - loss: 5.4540e-05 - acc: 0.0029 - val_loss: 3.9114e-05 - val_acc: 0.0000e+00\n",
      "Epoch 37/55\n",
      "340/340 [==============================] - 0s 53us/step - loss: 4.3021e-05 - acc: 0.0029 - val_loss: 3.5169e-05 - val_acc: 0.0000e+00\n",
      "Epoch 38/55\n",
      "340/340 [==============================] - 0s 51us/step - loss: 3.7500e-05 - acc: 0.0029 - val_loss: 3.7895e-05 - val_acc: 0.0000e+00\n",
      "Epoch 39/55\n",
      "340/340 [==============================] - 0s 50us/step - loss: 3.2109e-05 - acc: 0.0029 - val_loss: 3.1330e-05 - val_acc: 0.0000e+00\n",
      "Epoch 40/55\n",
      "340/340 [==============================] - 0s 43us/step - loss: 2.8627e-05 - acc: 0.0029 - val_loss: 2.9044e-05 - val_acc: 0.0000e+00\n",
      "Epoch 41/55\n",
      "340/340 [==============================] - 0s 45us/step - loss: 2.4800e-05 - acc: 0.0029 - val_loss: 2.6043e-05 - val_acc: 0.0000e+00\n",
      "Epoch 42/55\n",
      "340/340 [==============================] - 0s 46us/step - loss: 2.3156e-05 - acc: 0.0029 - val_loss: 2.3574e-05 - val_acc: 0.0000e+00\n",
      "Epoch 43/55\n",
      "340/340 [==============================] - 0s 46us/step - loss: 2.0525e-05 - acc: 0.0029 - val_loss: 2.2877e-05 - val_acc: 0.0000e+00\n",
      "Epoch 44/55\n",
      "340/340 [==============================] - 0s 49us/step - loss: 1.8992e-05 - acc: 0.0029 - val_loss: 2.4697e-05 - val_acc: 0.0000e+00\n",
      "Epoch 45/55\n",
      "340/340 [==============================] - 0s 46us/step - loss: 1.8068e-05 - acc: 0.0029 - val_loss: 2.0734e-05 - val_acc: 0.0000e+00\n",
      "Epoch 46/55\n",
      "340/340 [==============================] - 0s 45us/step - loss: 1.6561e-05 - acc: 0.0029 - val_loss: 2.1461e-05 - val_acc: 0.0000e+00\n",
      "Epoch 47/55\n",
      "340/340 [==============================] - 0s 48us/step - loss: 1.5858e-05 - acc: 0.0029 - val_loss: 2.0189e-05 - val_acc: 0.0000e+00\n",
      "Epoch 48/55\n",
      "340/340 [==============================] - 0s 46us/step - loss: 1.4715e-05 - acc: 0.0029 - val_loss: 2.0865e-05 - val_acc: 0.0000e+00\n",
      "Epoch 49/55\n",
      "340/340 [==============================] - 0s 45us/step - loss: 1.4805e-05 - acc: 0.0029 - val_loss: 1.9387e-05 - val_acc: 0.0000e+00\n",
      "Epoch 50/55\n",
      "340/340 [==============================] - 0s 51us/step - loss: 1.3594e-05 - acc: 0.0029 - val_loss: 2.1354e-05 - val_acc: 0.0000e+00\n",
      "Epoch 51/55\n",
      "340/340 [==============================] - 0s 104us/step - loss: 1.3637e-05 - acc: 0.0029 - val_loss: 1.8504e-05 - val_acc: 0.0000e+00\n",
      "Epoch 52/55\n",
      "340/340 [==============================] - 0s 52us/step - loss: 1.2547e-05 - acc: 0.0029 - val_loss: 2.0658e-05 - val_acc: 0.0000e+00\n",
      "Epoch 53/55\n",
      "340/340 [==============================] - 0s 62us/step - loss: 1.1274e-05 - acc: 0.0029 - val_loss: 1.8844e-05 - val_acc: 0.0000e+00\n",
      "Epoch 54/55\n",
      "340/340 [==============================] - 0s 54us/step - loss: 1.2005e-05 - acc: 0.0029 - val_loss: 1.9292e-05 - val_acc: 0.0000e+00\n",
      "Epoch 55/55\n",
      "340/340 [==============================] - 0s 62us/step - loss: 1.1105e-05 - acc: 0.0029 - val_loss: 1.8783e-05 - val_acc: 0.0000e+00\n"
     ]
    }
   ],
   "source": [
    "epochs_history = model.fit(x_train, y_train, epochs = 55, validation_split = 0.15, batch_size = 57, verbose = 1)"
   ]
  },
  {
   "cell_type": "code",
   "execution_count": 12,
   "metadata": {},
   "outputs": [
    {
     "data": {
      "text/plain": [
       "dict_keys(['val_loss', 'val_acc', 'loss', 'acc'])"
      ]
     },
     "execution_count": 12,
     "metadata": {},
     "output_type": "execute_result"
    }
   ],
   "source": [
    "epochs_history.history.keys()"
   ]
  },
  {
   "cell_type": "markdown",
   "metadata": {},
   "source": [
    "## <font color = \"brown\"> Plotting the model"
   ]
  },
  {
   "cell_type": "code",
   "execution_count": 13,
   "metadata": {},
   "outputs": [
    {
     "data": {
      "image/png": "[encoded data removed]",
      "text/plain": [
       "<Figure size 432x288 with 1 Axes>"
      ]
     },
     "metadata": {
      "needs_background": "light"
     },
     "output_type": "display_data"
    }
   ],
   "source": [
    "plt.plot(epochs_history.history[\"loss\"])\n",
    "plt.plot(epochs_history.history[\"val_loss\"])\n",
    "plt.title(\"Loss Progress while training\")\n",
    "plt.xlabel(\"Epoch Number\")\n",
    "plt.ylabel(\"Training And Validation Loss\")\n",
    "plt.legend([\"Training_Loss\",\"Validation_Loss\"])\n",
    "plt.grid()\n",
    "plt.show()"
   ]
  },
  {
   "cell_type": "code",
   "execution_count": 14,
   "metadata": {},
   "outputs": [],
   "source": [
    "prediction = model.predict(x_test)"
   ]
  },
  {
   "cell_type": "code",
   "execution_count": 15,
   "metadata": {},
   "outputs": [
    {
     "data": {
      "text/plain": [
       "array([[0.50722975],\n",
       "       [0.5990427 ],\n",
       "       [0.5745769 ],\n",
       "       [0.5544572 ],\n",
       "       [0.3382627 ],\n",
       "       [0.48025498],\n",
       "       [0.5013893 ],\n",
       "       [0.5836616 ],\n",
       "       [0.18563135],\n",
       "       [0.37654412],\n",
       "       [0.5436158 ],\n",
       "       [0.77419394],\n",
       "       [0.4566194 ],\n",
       "       [0.5369286 ],\n",
       "       [0.5151465 ],\n",
       "       [0.51642585],\n",
       "       [0.41824746],\n",
       "       [0.4164799 ],\n",
       "       [0.42254913],\n",
       "       [0.45056072],\n",
       "       [0.47190037],\n",
       "       [0.7117473 ],\n",
       "       [0.36057338],\n",
       "       [0.6864976 ],\n",
       "       [0.33436522],\n",
       "       [0.38585076],\n",
       "       [0.55359316],\n",
       "       [0.4145875 ],\n",
       "       [0.3645023 ],\n",
       "       [0.29905796],\n",
       "       [0.32049003],\n",
       "       [0.779487  ],\n",
       "       [0.4691782 ],\n",
       "       [0.39960107],\n",
       "       [0.5244806 ],\n",
       "       [0.6183472 ],\n",
       "       [0.76450026],\n",
       "       [0.28835076],\n",
       "       [0.7272006 ],\n",
       "       [0.52875954],\n",
       "       [0.55075693],\n",
       "       [0.7280708 ],\n",
       "       [0.64365757],\n",
       "       [0.6325017 ],\n",
       "       [0.43075812],\n",
       "       [0.6862944 ],\n",
       "       [0.65208   ],\n",
       "       [0.6111463 ],\n",
       "       [0.32843736],\n",
       "       [0.40899402],\n",
       "       [0.34909984],\n",
       "       [0.5513378 ],\n",
       "       [0.49774995],\n",
       "       [0.40542188],\n",
       "       [0.5857476 ],\n",
       "       [0.51059955],\n",
       "       [0.2632562 ],\n",
       "       [0.54295987],\n",
       "       [0.67927283],\n",
       "       [0.4370681 ],\n",
       "       [0.40445724],\n",
       "       [0.67701685],\n",
       "       [0.47187212],\n",
       "       [0.4224662 ],\n",
       "       [0.55314493],\n",
       "       [0.5571404 ],\n",
       "       [0.30136222],\n",
       "       [0.5534489 ],\n",
       "       [0.5510918 ],\n",
       "       [0.4249579 ],\n",
       "       [0.30956334],\n",
       "       [0.5681221 ],\n",
       "       [0.6301799 ],\n",
       "       [0.03069973],\n",
       "       [0.3259835 ],\n",
       "       [0.38755295],\n",
       "       [0.527908  ],\n",
       "       [0.8450023 ],\n",
       "       [0.2982423 ],\n",
       "       [0.49820507],\n",
       "       [0.44215295],\n",
       "       [0.79886085],\n",
       "       [0.6498591 ],\n",
       "       [0.3730916 ],\n",
       "       [0.18767892],\n",
       "       [0.45411068],\n",
       "       [0.47105163],\n",
       "       [0.73217285],\n",
       "       [0.3587778 ],\n",
       "       [0.7116478 ],\n",
       "       [0.03104247],\n",
       "       [0.23646753],\n",
       "       [0.61482066],\n",
       "       [0.63327336],\n",
       "       [0.38047075],\n",
       "       [0.67081517],\n",
       "       [0.429248  ],\n",
       "       [0.6747416 ],\n",
       "       [0.33575144],\n",
       "       [0.41925743]], dtype=float32)"
      ]
     },
     "execution_count": 15,
     "metadata": {},
     "output_type": "execute_result"
    }
   ],
   "source": [
    "prediction"
   ]
  },
  {
   "cell_type": "code",
   "execution_count": null,
   "metadata": {},
   "outputs": [],
   "source": []
  }
 ],
 "metadata": {
  "kernelspec": {
   "display_name": "Python 3",
   "language": "python",
   "name": "python3"
  },
  "language_info": {
   "codemirror_mode": {
    "name": "ipython",
    "version": 3
   },
   "file_extension": ".py",
   "mimetype": "text/x-python",
   "name": "python",
   "nbconvert_exporter": "python",
   "pygments_lexer": "ipython3",
   "version": "3.7.7"
  }
 },
 "nbformat": 4,
 "nbformat_minor": 2
}
