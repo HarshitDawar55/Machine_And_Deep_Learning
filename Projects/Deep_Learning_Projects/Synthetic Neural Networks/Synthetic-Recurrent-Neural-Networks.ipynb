{
 "cells": [
  {
   "cell_type": "markdown",
   "metadata": {},
   "source": [
    "# Synthetic Recurrent Neural Networks (RNN) using Basic Python Packages with comparison of the Actual API RNN"
   ]
  },
  {
   "cell_type": "markdown",
   "metadata": {},
   "source": [
    "## Importing the required Libraries"
   ]
  },
  {
   "cell_type": "code",
   "execution_count": 1,
   "metadata": {},
   "outputs": [],
   "source": [
    "from tensorflow.keras.layers import SimpleRNN, Dense, Input, Flatten\n",
    "from tensorflow.keras.models import Model\n",
    "from tensorflow.keras.optimizers import Adam\n",
    "import numpy as np\n",
    "import matplotlib.pyplot as plt"
   ]
  },
  {
   "cell_type": "code",
   "execution_count": 2,
   "metadata": {},
   "outputs": [],
   "source": [
    "Number_Of_Samples = 100\n",
    "Dimensions = 3\n",
    "Hidden_Units = 6\n",
    "Sequqnce_Length = 15\n",
    "Outputs = 5\n",
    "\n",
    "data = np.random.randn(Number_Of_Samples, Sequqnce_Length, Dimensions)"
   ]
  },
  {
   "cell_type": "code",
   "execution_count": 3,
   "metadata": {},
   "outputs": [
    {
     "data": {
      "text/plain": [
       "(100, 15, 3)"
      ]
     },
     "execution_count": 3,
     "metadata": {},
     "output_type": "execute_result"
    }
   ],
   "source": [
    "data.shape"
   ]
  },
  {
   "cell_type": "markdown",
   "metadata": {},
   "source": [
    "## Constructing a RNN from API"
   ]
  },
  {
   "cell_type": "code",
   "execution_count": 4,
   "metadata": {},
   "outputs": [],
   "source": [
    "inputShape = Input(shape = (Sequqnce_Length, Dimensions))\n",
    "RNNModel_From_API = SimpleRNN(Hidden_Units)(inputShape)\n",
    "RNNModel_From_API = Dense(Outputs)(RNNModel_From_API)\n",
    "\n",
    "RNNModel_From_API = Model(inputShape, RNNModel_From_API)"
   ]
  },
  {
   "cell_type": "code",
   "execution_count": 5,
   "metadata": {},
   "outputs": [
    {
     "name": "stdout",
     "output_type": "stream",
     "text": [
      "Model: \"functional_1\"\n",
      "_________________________________________________________________\n",
      "Layer (type)                 Output Shape              Param #   \n",
      "=================================================================\n",
      "input_1 (InputLayer)         [(None, 15, 3)]           0         \n",
      "_________________________________________________________________\n",
      "simple_rnn (SimpleRNN)       (None, 6)                 60        \n",
      "_________________________________________________________________\n",
      "dense (Dense)                (None, 5)                 35        \n",
      "=================================================================\n",
      "Total params: 95\n",
      "Trainable params: 95\n",
      "Non-trainable params: 0\n",
      "_________________________________________________________________\n"
     ]
    }
   ],
   "source": [
    "RNNModel_From_API.summary()"
   ]
  },
  {
   "cell_type": "code",
   "execution_count": 6,
   "metadata": {},
   "outputs": [
    {
     "data": {
      "text/plain": [
       "(15, 3)"
      ]
     },
     "execution_count": 6,
     "metadata": {},
     "output_type": "execute_result"
    }
   ],
   "source": [
    "data[0].shape"
   ]
  },
  {
   "cell_type": "code",
   "execution_count": 7,
   "metadata": {},
   "outputs": [
    {
     "data": {
      "text/plain": [
       "array([-0.29195532, -0.14294672,  0.10680032, -0.43692708,  0.58487356],\n",
       "      dtype=float32)"
      ]
     },
     "execution_count": 7,
     "metadata": {},
     "output_type": "execute_result"
    }
   ],
   "source": [
    "RNNModel_From_API.predict(data)[0]"
   ]
  },
  {
   "cell_type": "markdown",
   "metadata": {},
   "source": [
    "### Checking SimpleRNN Layer aprameters & their Shapes"
   ]
  },
  {
   "cell_type": "code",
   "execution_count": 8,
   "metadata": {},
   "outputs": [
    {
     "data": {
      "text/plain": [
       "[<tensorflow.python.keras.engine.input_layer.InputLayer at 0x7fae7f8d4cd0>,\n",
       " <tensorflow.python.keras.layers.recurrent.SimpleRNN at 0x7fae7f8a8990>,\n",
       " <tensorflow.python.keras.layers.core.Dense at 0x7fae7f269c90>]"
      ]
     },
     "execution_count": 8,
     "metadata": {},
     "output_type": "execute_result"
    }
   ],
   "source": [
    "## Layers in the Model\n",
    "RNNModel_From_API.layers"
   ]
  },
  {
   "cell_type": "code",
   "execution_count": 9,
   "metadata": {},
   "outputs": [
    {
     "name": "stdout",
     "output_type": "stream",
     "text": [
      "Shape of Weights of Input for Hidden Layer (3, 6) \n",
      "Shape of Weights of Hidden Parameters for Hidden Layers (6, 6)\n",
      "Shape of the Biases for the Hidden Layer (6,)\n"
     ]
    }
   ],
   "source": [
    "p, q, r = RNNModel_From_API.layers[1].get_weights()\n",
    "print(\"Shape of Weights of Input for Hidden Layer {} \\nShape of Weights of Hidden Parameters for Hidden Layers {}\\nShape of the Biases for the Hidden Layer {}\".format(\n",
    "    p.shape, q.shape, r.shape))"
   ]
  },
  {
   "cell_type": "code",
   "execution_count": 10,
   "metadata": {},
   "outputs": [
    {
     "data": {
      "text/plain": [
       "[array([[ 0.24443406,  0.57757634,  0.66978115, -0.09970021,  0.6720875 ],\n",
       "        [ 0.4150825 , -0.5342384 ,  0.41841716,  0.37949103,  0.05946559],\n",
       "        [-0.4465566 , -0.0190466 ,  0.2963224 , -0.53669405,  0.3853758 ],\n",
       "        [-0.39801222, -0.42716607, -0.3585383 ,  0.30239218,  0.0600062 ],\n",
       "        [-0.25734153, -0.42462218, -0.4251675 , -0.12579215,  0.7083252 ],\n",
       "        [ 0.09524584,  0.20559543,  0.5010094 ,  0.25290245, -0.35680544]],\n",
       "       dtype=float32),\n",
       " array([0., 0., 0., 0., 0.], dtype=float32)]"
      ]
     },
     "execution_count": 10,
     "metadata": {},
     "output_type": "execute_result"
    }
   ],
   "source": [
    "RNNModel_From_API.layers[2].get_weights()"
   ]
  },
  {
   "cell_type": "code",
   "execution_count": 11,
   "metadata": {},
   "outputs": [
    {
     "name": "stdout",
     "output_type": "stream",
     "text": [
      "Shape of Weights for the output Layer (6, 5) \n",
      "Shape of Biases for the Output Layer (5,)\n"
     ]
    }
   ],
   "source": [
    "a, b = RNNModel_From_API.layers[2].get_weights()\n",
    "print(\"Shape of Weights for the output Layer {} \\nShape of Biases for the Output Layer {}\".format(a.shape, b.shape))"
   ]
  },
  {
   "cell_type": "code",
   "execution_count": 12,
   "metadata": {},
   "outputs": [
    {
     "data": {
      "text/plain": [
       "(15, 3)"
      ]
     },
     "execution_count": 12,
     "metadata": {},
     "output_type": "execute_result"
    }
   ],
   "source": [
    "data[0].shape"
   ]
  },
  {
   "cell_type": "markdown",
   "metadata": {},
   "source": [
    "## Creating Synthetic RNN"
   ]
  },
  {
   "cell_type": "markdown",
   "metadata": {},
   "source": [
    "***Wx = Wieghts of the Input in Hidden Layer***\n",
    "\n",
    "***Wh = Weights of the Hidden Parameters in the Hidden Layer***\n",
    "\n",
    "***Bh = Biases of the Hidden Parameters in the Hidden Layer***\n",
    "\n",
    "***Wo = Weights of the Output Parameters in the Output Layer***\n",
    "\n",
    "***Bo = Biases of the Output Parameters in the Output Layer***"
   ]
  },
  {
   "cell_type": "markdown",
   "metadata": {},
   "source": [
    "### Retrieving the required Wieghts"
   ]
  },
  {
   "cell_type": "code",
   "execution_count": 13,
   "metadata": {},
   "outputs": [],
   "source": [
    "Wx, Wh, Bh = RNNModel_From_API.layers[1].get_weights()\n",
    "Wo, Bo = RNNModel_From_API.layers[2].get_weights()\n"
   ]
  },
  {
   "cell_type": "code",
   "execution_count": 14,
   "metadata": {},
   "outputs": [
    {
     "name": "stdout",
     "output_type": "stream",
     "text": [
      "[-0.2919553  -0.1429467   0.10680034 -0.43692709  0.58487372]\n"
     ]
    }
   ],
   "source": [
    "sampleData = data[0]\n",
    "hiddenState_Previous = np.zeros(Hidden_Units)\n",
    "output = []\n",
    "\n",
    "for sequence in range(Sequqnce_Length):\n",
    "    hiddenParameter = np.tanh( sampleData[sequence].dot(Wx) + hiddenState_Previous.dot(Wh) + Bh )\n",
    "    y = hiddenParameter.dot(Wo) + Bo\n",
    "    \n",
    "    output.append(y)\n",
    "    hiddenState_Previous = hiddenParameter\n",
    "\n",
    "print(output[-1])"
   ]
  },
  {
   "cell_type": "code",
   "execution_count": 15,
   "metadata": {},
   "outputs": [
    {
     "name": "stdout",
     "output_type": "stream",
     "text": [
      "[-0.29195532 -0.14294672  0.10680032 -0.43692708  0.58487356]\n"
     ]
    }
   ],
   "source": [
    "print(RNNModel_From_API.predict(data)[0])"
   ]
  },
  {
   "cell_type": "markdown",
   "metadata": {},
   "source": [
    "### The above shown parameters are exactly same, therefore this proves that the code written above is the exact code for the functioning of the RNN"
   ]
  },
  {
   "cell_type": "markdown",
   "metadata": {},
   "source": [
    "## Another way of writing the exact code"
   ]
  },
  {
   "cell_type": "code",
   "execution_count": 16,
   "metadata": {},
   "outputs": [
    {
     "name": "stdout",
     "output_type": "stream",
     "text": [
      "[-0.2919553  -0.1429467   0.10680034 -0.43692709  0.58487372]\n"
     ]
    }
   ],
   "source": [
    "sampleData = data[0]\n",
    "hiddenState_Previous = np.zeros(Hidden_Units)\n",
    "output = []\n",
    "\n",
    "for sequence in range(Sequqnce_Length):\n",
    "    hiddenParameter = np.tanh( np.transpose(Wx).dot(sampleData[sequence])\n",
    "                              + np.transpose(Wh).dot(hiddenState_Previous) + Bh )\n",
    "    y = hiddenParameter.dot(Wo) + Bo\n",
    "    \n",
    "    output.append(y)\n",
    "    hiddenState_Previous = hiddenParameter\n",
    "\n",
    "print(output[-1])"
   ]
  },
  {
   "cell_type": "code",
   "execution_count": 17,
   "metadata": {},
   "outputs": [
    {
     "data": {
      "text/plain": [
       "((3, 6), (15, 3), (6, 5), (6, 6), (6,))"
      ]
     },
     "execution_count": 17,
     "metadata": {},
     "output_type": "execute_result"
    }
   ],
   "source": [
    "Wx.shape, sampleData.shape, Wo.shape, Wh.shape, hiddenState_Previous.shape"
   ]
  },
  {
   "cell_type": "markdown",
   "metadata": {},
   "source": [
    "### The above calculated results also are exactly same as the aforementioned results, this is because the way of writing code is different, but internally it means exactly the same."
   ]
  },
  {
   "cell_type": "markdown",
   "metadata": {},
   "source": [
    "***From here, it can be concluded that the equation for RNN is `hiddenParameter(i) = Tanh(Wx(Transpose) * x(i)   + Wh(Transpose) * hiddenParameter(i - 1)  + Bh) `  & `y(i) = Wo(Transpose) * hiddenParameter(i) + Bo` !!!***"
   ]
  },
  {
   "cell_type": "markdown",
   "metadata": {},
   "source": [
    "## Explanation of the Trainable Parameters in SimpleRNN"
   ]
  },
  {
   "cell_type": "code",
   "execution_count": 18,
   "metadata": {},
   "outputs": [
    {
     "name": "stdout",
     "output_type": "stream",
     "text": [
      "Model: \"functional_1\"\n",
      "_________________________________________________________________\n",
      "Layer (type)                 Output Shape              Param #   \n",
      "=================================================================\n",
      "input_1 (InputLayer)         [(None, 15, 3)]           0         \n",
      "_________________________________________________________________\n",
      "simple_rnn (SimpleRNN)       (None, 6)                 60        \n",
      "_________________________________________________________________\n",
      "dense (Dense)                (None, 5)                 35        \n",
      "=================================================================\n",
      "Total params: 95\n",
      "Trainable params: 95\n",
      "Non-trainable params: 0\n",
      "_________________________________________________________________\n"
     ]
    }
   ],
   "source": [
    "RNNModel_From_API.summary()"
   ]
  },
  {
   "cell_type": "markdown",
   "metadata": {},
   "source": [
    "***SimpleRNN layer consists only the parameters of the HiddenLayers of the RNN, where as the Dense layer consists the parameters of the output Layer!***\n",
    "  * Explanation for SimpleRNN Layer:\n",
    "  \n",
    "    * Here, the toatal parameters are obtained by the combination of the parameters trained in the equation of HiddenLayer as mentioned above.\n",
    "    <br>\n",
    "    * For the first part, i.e. Input Part, total number of parameters trained are equal to Dimension x HiddenUnits, in present case: 3 x 5 = 15 Parameters.\n",
    "    <br>\n",
    "    \n",
    "    * Then there is turn of Hidden Parameters, it directly depends only on the HiddenUnits, and total parameters are HiddenUnits * HiddenUnits, in present case: 6 x 6 = 36 Parameters. It is because, the hidden layer do not calculares only a single value, every time a matrix of values/weights are calcualted, & based on the HiddenUnits, sequence division is done, & each iteration, the shape of the Weights are  Dimension of **HiddenUnits * HiddenUnits**, whereas the shape of the inputData in each iteration of Loop is **HiddenUnits * 1**, which when multiplied, provides a matrix of shape **HiddenUnits * 1**. Maximum number of parameters which are to be trained in this part are HiddenUnits * HiddenUnits, therefore, in present case: 6 * 6 = 36.\n",
    "      * The reason why, shape of Weights generated i.e. shape of Wh is HiddenUnits * HiddenUnits, is that the previous weights i.e. Wx(shape: Dimensions * HiddenUnits) when Transposed & multiplied with Input(shape: Dimension * 1), output matrix is of shape HiddenUnits * 1. Now, to add another matrix uniformly to a matrix of the shape HiddenUnits * 1, the shape of that matrix should also be HiddenUnits * 1, otherwise addition will not be possible."
   ]
  },
  {
   "cell_type": "code",
   "execution_count": null,
   "metadata": {},
   "outputs": [],
   "source": []
  }
 ],
 "metadata": {
  "kernelspec": {
   "display_name": "Python 3",
   "language": "python",
   "name": "python3"
  },
  "language_info": {
   "codemirror_mode": {
    "name": "ipython",
    "version": 3
   },
   "file_extension": ".py",
   "mimetype": "text/x-python",
   "name": "python",
   "nbconvert_exporter": "python",
   "pygments_lexer": "ipython3",
   "version": "3.7.9"
  }
 },
 "nbformat": 4,
 "nbformat_minor": 4
}
