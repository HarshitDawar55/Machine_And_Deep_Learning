{
 "cells": [
  {
   "cell_type": "markdown",
   "metadata": {},
   "source": [
    "# Synthetic Recurrent Neural Networks (RNN) using Basic Python Packages with comparison of the Actual API RNN"
   ]
  },
  {
   "cell_type": "markdown",
   "metadata": {},
   "source": [
    "## Importing the required Libraries"
   ]
  },
  {
   "cell_type": "code",
   "execution_count": 1,
   "metadata": {},
   "outputs": [],
   "source": [
    "from tensorflow.keras.layers import SimpleRNN, Dense, Input, Flatten\n",
    "from tensorflow.keras.models import Model\n",
    "from tensorflow.keras.optimizers import Adam\n",
    "import numpy as np\n",
    "import matplotlib.pyplot as plt"
   ]
  },
  {
   "cell_type": "code",
   "execution_count": 5,
   "metadata": {},
   "outputs": [],
   "source": [
    "Number_Of_Samples = 100\n",
    "Dimensions = 3\n",
    "Hidden_Units = 5\n",
    "Sequqnce_Length = 15\n",
    "Outputs = 5\n",
    "\n",
    "data = np.random.randn(Number_Of_Samples, Sequqnce_Length, Dimensions)"
   ]
  },
  {
   "cell_type": "code",
   "execution_count": 8,
   "metadata": {},
   "outputs": [
    {
     "data": {
      "text/plain": [
       "(100, 15, 3)"
      ]
     },
     "execution_count": 8,
     "metadata": {},
     "output_type": "execute_result"
    }
   ],
   "source": [
    "data.shape"
   ]
  },
  {
   "cell_type": "markdown",
   "metadata": {},
   "source": [
    "## Constructing a RNN from API"
   ]
  },
  {
   "cell_type": "code",
   "execution_count": 9,
   "metadata": {},
   "outputs": [],
   "source": [
    "inputShape = Input(shape = (Sequqnce_Length, Dimensions))\n",
    "RNNModel_From_API = SimpleRNN(Hidden_Units)(inputShape)\n",
    "RNNModel_From_API = Dense(Outputs)(RNNModel_From_API)\n",
    "\n",
    "RNNModel_From_API = Model(inputShape, RNNModel_From_API)"
   ]
  },
  {
   "cell_type": "code",
   "execution_count": 10,
   "metadata": {},
   "outputs": [
    {
     "name": "stdout",
     "output_type": "stream",
     "text": [
      "Model: \"functional_1\"\n",
      "_________________________________________________________________\n",
      "Layer (type)                 Output Shape              Param #   \n",
      "=================================================================\n",
      "input_1 (InputLayer)         [(None, 15, 3)]           0         \n",
      "_________________________________________________________________\n",
      "simple_rnn (SimpleRNN)       (None, 5)                 45        \n",
      "_________________________________________________________________\n",
      "dense (Dense)                (None, 5)                 30        \n",
      "=================================================================\n",
      "Total params: 75\n",
      "Trainable params: 75\n",
      "Non-trainable params: 0\n",
      "_________________________________________________________________\n"
     ]
    }
   ],
   "source": [
    "RNNModel_From_API.summary()"
   ]
  },
  {
   "cell_type": "code",
   "execution_count": 14,
   "metadata": {},
   "outputs": [
    {
     "data": {
      "text/plain": [
       "array([ 0.06354403,  0.02781903, -0.25603473,  0.5296577 , -0.5586113 ],\n",
       "      dtype=float32)"
      ]
     },
     "execution_count": 14,
     "metadata": {},
     "output_type": "execute_result"
    }
   ],
   "source": [
    "RNNModel_From_API.predict(data)[0]"
   ]
  },
  {
   "cell_type": "markdown",
   "metadata": {},
   "source": [
    "### Checking SimpleRNN Layer aprameters & their Shapes"
   ]
  },
  {
   "cell_type": "code",
   "execution_count": 21,
   "metadata": {},
   "outputs": [
    {
     "data": {
      "text/plain": [
       "[<tensorflow.python.keras.engine.input_layer.InputLayer at 0x7fc0e8e30610>,\n",
       " <tensorflow.python.keras.layers.recurrent.SimpleRNN at 0x7fc0e7ee3d50>,\n",
       " <tensorflow.python.keras.layers.core.Dense at 0x7fc0e7f1e810>]"
      ]
     },
     "execution_count": 21,
     "metadata": {},
     "output_type": "execute_result"
    }
   ],
   "source": [
    "## Layers in the Model\n",
    "RNNModel_From_API.layers"
   ]
  },
  {
   "cell_type": "code",
   "execution_count": 19,
   "metadata": {},
   "outputs": [
    {
     "data": {
      "text/plain": [
       "[array([[ 0.5278395 ,  0.33901566,  0.72987264, -0.04462039, -0.37976032],\n",
       "        [-0.31247956, -0.4856124 ,  0.607722  ,  0.65782124,  0.7901283 ],\n",
       "        [-0.3619125 , -0.37909445, -0.3027045 ,  0.13091171,  0.60899395]],\n",
       "       dtype=float32),\n",
       " array([[ 0.21730196,  0.4180219 ,  0.13075541,  0.280215  ,  0.8260872 ],\n",
       "        [-0.02677928,  0.3702965 , -0.79860145, -0.46239284,  0.10291667],\n",
       "        [ 0.7960546 , -0.5351484 , -0.26362926,  0.00335152,  0.10198843],\n",
       "        [-0.5478907 , -0.6336522 , -0.1699108 , -0.06771715,  0.5146313 ],\n",
       "        [-0.13481686,  0.01546921, -0.49675804,  0.83849597, -0.17816022]],\n",
       "       dtype=float32),\n",
       " array([0., 0., 0., 0., 0.], dtype=float32)]"
      ]
     },
     "execution_count": 19,
     "metadata": {},
     "output_type": "execute_result"
    }
   ],
   "source": [
    "RNNModel_From_API.layers[1].get_weights()"
   ]
  },
  {
   "cell_type": "code",
   "execution_count": 20,
   "metadata": {},
   "outputs": [
    {
     "data": {
      "text/plain": [
       "((3, 5), (5, 5), (5,))"
      ]
     },
     "execution_count": 20,
     "metadata": {},
     "output_type": "execute_result"
    }
   ],
   "source": [
    "p, q, r = RNNModel_From_API.layers[1].get_weights()\n",
    "print(\"Shape of Weights of Input for Hidden Layer {} \\nShape of Weights of Hidden Layers for the Output Layer {}Shape of the \".format(\n",
    "    a.shape, b.shape))"
   ]
  },
  {
   "cell_type": "code",
   "execution_count": 22,
   "metadata": {},
   "outputs": [
    {
     "data": {
      "text/plain": [
       "[array([[-0.47278425,  0.5653453 , -0.03459412, -0.3457511 , -0.22459072],\n",
       "        [-0.67551166,  0.21811312,  0.20636815,  0.03271079,  0.685035  ],\n",
       "        [-0.14675713, -0.30493   , -0.56542104,  0.3913895 ,  0.4882573 ],\n",
       "        [-0.12800157,  0.46501243,  0.29619014,  0.63985586, -0.15197134],\n",
       "        [-0.11027712,  0.30816627,  0.00848043, -0.58844936,  0.09117156]],\n",
       "       dtype=float32),\n",
       " array([0., 0., 0., 0., 0.], dtype=float32)]"
      ]
     },
     "execution_count": 22,
     "metadata": {},
     "output_type": "execute_result"
    }
   ],
   "source": [
    "RNNModel_From_API.layers[2].get_weights()"
   ]
  },
  {
   "cell_type": "code",
   "execution_count": 24,
   "metadata": {},
   "outputs": [
    {
     "name": "stdout",
     "output_type": "stream",
     "text": [
      "Shape of Weights for the output Layer (5, 5) \n",
      "Shape of Biases for the Output Layer (5,)\n"
     ]
    }
   ],
   "source": [
    "a, b = RNNModel_From_API.layers[2].get_weights()\n",
    "print(\"Shape of Weights for the output Layer {} \\nShape of Biases for the Output Layer {}\".format(a.shape, b.shape))"
   ]
  },
  {
   "cell_type": "code",
   "execution_count": null,
   "metadata": {},
   "outputs": [],
   "source": []
  }
 ],
 "metadata": {
  "kernelspec": {
   "display_name": "Python 3",
   "language": "python",
   "name": "python3"
  },
  "language_info": {
   "codemirror_mode": {
    "name": "ipython",
    "version": 3
   },
   "file_extension": ".py",
   "mimetype": "text/x-python",
   "name": "python",
   "nbconvert_exporter": "python",
   "pygments_lexer": "ipython3",
   "version": "3.7.9"
  }
 },
 "nbformat": 4,
 "nbformat_minor": 4
}
