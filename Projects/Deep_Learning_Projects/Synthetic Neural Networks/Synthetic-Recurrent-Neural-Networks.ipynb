{
 "cells": [
  {
   "cell_type": "markdown",
   "metadata": {},
   "source": [
    "# Synthetic Recurrent Neural Networks (RNN) using Basic Python Packages with comparison of the Actual API RNN"
   ]
  },
  {
   "cell_type": "markdown",
   "metadata": {},
   "source": [
    "## Importing the required Libraries"
   ]
  },
  {
   "cell_type": "code",
   "execution_count": 1,
   "metadata": {},
   "outputs": [],
   "source": [
    "from tensorflow.keras.layers import SimpleRNN, Dense, Input, Flatten\n",
    "from tensorflow.keras.models import Model\n",
    "from tensorflow.keras.optimizers import Adam\n",
    "import numpy as np\n",
    "import matplotlib.pyplot as plt"
   ]
  },
  {
   "cell_type": "code",
   "execution_count": 65,
   "metadata": {},
   "outputs": [],
   "source": [
    "Number_Of_Samples = 100\n",
    "Dimensions = 3\n",
    "Hidden_Units = 5\n",
    "Sequqnce_Length = 15\n",
    "Outputs = 5\n",
    "\n",
    "data = np.random.randn(Number_Of_Samples, Sequqnce_Length, Dimensions)"
   ]
  },
  {
   "cell_type": "code",
   "execution_count": 66,
   "metadata": {},
   "outputs": [
    {
     "data": {
      "text/plain": [
       "(100, 15, 3)"
      ]
     },
     "execution_count": 66,
     "metadata": {},
     "output_type": "execute_result"
    }
   ],
   "source": [
    "data.shape"
   ]
  },
  {
   "cell_type": "markdown",
   "metadata": {},
   "source": [
    "## Constructing a RNN from API"
   ]
  },
  {
   "cell_type": "code",
   "execution_count": 67,
   "metadata": {},
   "outputs": [],
   "source": [
    "inputShape = Input(shape = (Sequqnce_Length, Dimensions))\n",
    "RNNModel_From_API = SimpleRNN(Hidden_Units)(inputShape)\n",
    "RNNModel_From_API = Dense(Outputs)(RNNModel_From_API)\n",
    "\n",
    "RNNModel_From_API = Model(inputShape, RNNModel_From_API)"
   ]
  },
  {
   "cell_type": "code",
   "execution_count": 68,
   "metadata": {},
   "outputs": [
    {
     "name": "stdout",
     "output_type": "stream",
     "text": [
      "Model: \"functional_7\"\n",
      "_________________________________________________________________\n",
      "Layer (type)                 Output Shape              Param #   \n",
      "=================================================================\n",
      "input_4 (InputLayer)         [(None, 15, 3)]           0         \n",
      "_________________________________________________________________\n",
      "simple_rnn_3 (SimpleRNN)     (None, 5)                 45        \n",
      "_________________________________________________________________\n",
      "dense_3 (Dense)              (None, 5)                 30        \n",
      "=================================================================\n",
      "Total params: 75\n",
      "Trainable params: 75\n",
      "Non-trainable params: 0\n",
      "_________________________________________________________________\n"
     ]
    }
   ],
   "source": [
    "RNNModel_From_API.summary()"
   ]
  },
  {
   "cell_type": "code",
   "execution_count": 69,
   "metadata": {},
   "outputs": [
    {
     "data": {
      "text/plain": [
       "(15, 3)"
      ]
     },
     "execution_count": 69,
     "metadata": {},
     "output_type": "execute_result"
    }
   ],
   "source": [
    "data[0].shape"
   ]
  },
  {
   "cell_type": "code",
   "execution_count": 70,
   "metadata": {},
   "outputs": [
    {
     "data": {
      "text/plain": [
       "array([ 0.71518403, -0.4893237 , -0.9059198 ,  0.82166475, -0.5105824 ],\n",
       "      dtype=float32)"
      ]
     },
     "execution_count": 70,
     "metadata": {},
     "output_type": "execute_result"
    }
   ],
   "source": [
    "RNNModel_From_API.predict(data)[0]"
   ]
  },
  {
   "cell_type": "markdown",
   "metadata": {},
   "source": [
    "### Checking SimpleRNN Layer aprameters & their Shapes"
   ]
  },
  {
   "cell_type": "code",
   "execution_count": 71,
   "metadata": {},
   "outputs": [
    {
     "data": {
      "text/plain": [
       "[<tensorflow.python.keras.engine.input_layer.InputLayer at 0x7fc0de4176d0>,\n",
       " <tensorflow.python.keras.layers.recurrent.SimpleRNN at 0x7fc0de4171d0>,\n",
       " <tensorflow.python.keras.layers.core.Dense at 0x7fc0de417e90>]"
      ]
     },
     "execution_count": 71,
     "metadata": {},
     "output_type": "execute_result"
    }
   ],
   "source": [
    "## Layers in the Model\n",
    "RNNModel_From_API.layers"
   ]
  },
  {
   "cell_type": "code",
   "execution_count": 72,
   "metadata": {},
   "outputs": [
    {
     "data": {
      "text/plain": [
       "[array([[ 0.72209054, -0.81780547, -0.4364722 ,  0.20916647,  0.820213  ],\n",
       "        [ 0.86559814,  0.44415253,  0.02617997,  0.32367736,  0.1384502 ],\n",
       "        [ 0.77787536, -0.6454112 , -0.19293809,  0.21988755,  0.776653  ]],\n",
       "       dtype=float32),\n",
       " array([[ 7.0458293e-02, -7.7380264e-01, -4.0028641e-01, -4.0357441e-01,\n",
       "         -2.7048758e-01],\n",
       "        [ 6.5845001e-04, -2.9930481e-01, -2.0159107e-01,  9.1019279e-01,\n",
       "         -2.0328900e-01],\n",
       "        [ 5.8308470e-01, -3.5972294e-01,  2.5072199e-01,  8.8292390e-02,\n",
       "          6.7819947e-01],\n",
       "        [-7.1349287e-01, -1.5837801e-01, -2.7081540e-01,  2.8239995e-02,\n",
       "          6.2586403e-01],\n",
       "        [-3.8206699e-01, -3.9643663e-01,  8.1420469e-01,  9.1529042e-03,\n",
       "         -1.8398291e-01]], dtype=float32),\n",
       " array([0., 0., 0., 0., 0.], dtype=float32)]"
      ]
     },
     "execution_count": 72,
     "metadata": {},
     "output_type": "execute_result"
    }
   ],
   "source": [
    "RNNModel_From_API.layers[1].get_weights()"
   ]
  },
  {
   "cell_type": "code",
   "execution_count": 73,
   "metadata": {},
   "outputs": [
    {
     "name": "stdout",
     "output_type": "stream",
     "text": [
      "Shape of Weights of Input for Hidden Layer (3, 5) \n",
      "Shape of Weights of Hidden Parameters for Hidden Layers (5, 5)\n",
      "Shape of the Biases for the Hidden Layer (5,)\n"
     ]
    }
   ],
   "source": [
    "p, q, r = RNNModel_From_API.layers[1].get_weights()\n",
    "print(\"Shape of Weights of Input for Hidden Layer {} \\nShape of Weights of Hidden Parameters for Hidden Layers {}\\nShape of the Biases for the Hidden Layer {}\".format(\n",
    "    p.shape, q.shape, r.shape))"
   ]
  },
  {
   "cell_type": "code",
   "execution_count": 74,
   "metadata": {},
   "outputs": [
    {
     "data": {
      "text/plain": [
       "[array([[ 0.68569887, -0.5480356 , -0.2710864 ,  0.30896258,  0.34104073],\n",
       "        [-0.1989544 , -0.05351752, -0.19102192,  0.25469458, -0.35059613],\n",
       "        [-0.23485994,  0.3490299 ,  0.63393176,  0.7743679 , -0.27296478],\n",
       "        [ 0.36506128,  0.0164336 , -0.6726582 ,  0.49134922, -0.5645117 ],\n",
       "        [ 0.10606974, -0.08883727, -0.73820823,  0.28067505,  0.61149573]],\n",
       "       dtype=float32),\n",
       " array([0., 0., 0., 0., 0.], dtype=float32)]"
      ]
     },
     "execution_count": 74,
     "metadata": {},
     "output_type": "execute_result"
    }
   ],
   "source": [
    "RNNModel_From_API.layers[2].get_weights()"
   ]
  },
  {
   "cell_type": "code",
   "execution_count": 75,
   "metadata": {},
   "outputs": [
    {
     "name": "stdout",
     "output_type": "stream",
     "text": [
      "Shape of Weights for the output Layer (5, 5) \n",
      "Shape of Biases for the Output Layer (5,)\n"
     ]
    }
   ],
   "source": [
    "a, b = RNNModel_From_API.layers[2].get_weights()\n",
    "print(\"Shape of Weights for the output Layer {} \\nShape of Biases for the Output Layer {}\".format(a.shape, b.shape))"
   ]
  },
  {
   "cell_type": "code",
   "execution_count": 76,
   "metadata": {},
   "outputs": [
    {
     "data": {
      "text/plain": [
       "(15, 3)"
      ]
     },
     "execution_count": 76,
     "metadata": {},
     "output_type": "execute_result"
    }
   ],
   "source": [
    "data[0].shape"
   ]
  },
  {
   "cell_type": "markdown",
   "metadata": {},
   "source": [
    "## Creating Synthetic RNN"
   ]
  },
  {
   "cell_type": "markdown",
   "metadata": {},
   "source": [
    "***Wx = Wieghts of the Input in Hidden Layer***\n",
    "\n",
    "***Wh = Weights of the Hidden Parameters in the Hidden Layer***\n",
    "\n",
    "***Bh = Biases of the Hidden Parameters in the Hidden Layer***\n",
    "\n",
    "***Wo = Weights of the Output Parameters in the Output Layer***\n",
    "\n",
    "***Bo = Biases of the Output Parameters in the Output Layer***"
   ]
  },
  {
   "cell_type": "markdown",
   "metadata": {},
   "source": [
    "### Retrieving the required Wieghts"
   ]
  },
  {
   "cell_type": "code",
   "execution_count": 77,
   "metadata": {},
   "outputs": [],
   "source": [
    "Wx, Wh, Bh = RNNModel_From_API.layers[1].get_weights()\n",
    "Wo, Bo = RNNModel_From_API.layers[2].get_weights()\n"
   ]
  },
  {
   "cell_type": "code",
   "execution_count": 82,
   "metadata": {},
   "outputs": [
    {
     "name": "stdout",
     "output_type": "stream",
     "text": [
      "[ 0.71518384 -0.48932357 -0.90591966  0.8216648  -0.51058244]\n"
     ]
    }
   ],
   "source": [
    "sampleData = data[0]\n",
    "hiddenState = np.zeros(Hidden_Units)\n",
    "output = []\n",
    "\n",
    "for sequence in range(Sequqnce_Length):\n",
    "    hiddenParameter = np.tanh( sampleData[sequence].dot(Wx) + hiddenState.dot(Wh) + Bh )\n",
    "    y = hiddenParameter.dot(Wo) + Bo\n",
    "    \n",
    "    output.append(y)\n",
    "    hiddenState = hiddenParameter\n",
    "\n",
    "print(output[-1])"
   ]
  },
  {
   "cell_type": "code",
   "execution_count": 80,
   "metadata": {},
   "outputs": [
    {
     "name": "stdout",
     "output_type": "stream",
     "text": [
      "[ 0.71518403 -0.4893237  -0.9059198   0.82166475 -0.5105824 ]\n"
     ]
    }
   ],
   "source": [
    "print(RNNModel_From_API.predict(data)[0])"
   ]
  },
  {
   "cell_type": "code",
   "execution_count": null,
   "metadata": {},
   "outputs": [],
   "source": []
  }
 ],
 "metadata": {
  "kernelspec": {
   "display_name": "Python 3",
   "language": "python",
   "name": "python3"
  },
  "language_info": {
   "codemirror_mode": {
    "name": "ipython",
    "version": 3
   },
   "file_extension": ".py",
   "mimetype": "text/x-python",
   "name": "python",
   "nbconvert_exporter": "python",
   "pygments_lexer": "ipython3",
   "version": "3.7.9"
  }
 },
 "nbformat": 4,
 "nbformat_minor": 4
}
