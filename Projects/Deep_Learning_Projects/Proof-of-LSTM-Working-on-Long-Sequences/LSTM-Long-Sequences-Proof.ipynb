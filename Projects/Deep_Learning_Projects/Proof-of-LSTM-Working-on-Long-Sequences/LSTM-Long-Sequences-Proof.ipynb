{
 "cells": [
  {
   "cell_type": "markdown",
   "metadata": {},
   "source": [
    "# Proof that LSTM works better than GRU & RNN on Long Sequences by `Mr. Harshit Dawar!`"
   ]
  },
  {
   "cell_type": "code",
   "execution_count": 1,
   "metadata": {},
   "outputs": [],
   "source": [
    "from tensorflow.keras.models import Model\n",
    "from tensorflow.keras.layers import Dense, SimpleRNN, LSTM, GRU, Input, GlobalMaxPooling1D\n",
    "from tensorflow.keras.optimizers import Adam\n",
    "import numpy as np\n",
    "import matplotlib.pyplot as plt"
   ]
  },
  {
   "cell_type": "code",
   "execution_count": 5,
   "metadata": {},
   "outputs": [],
   "source": [
    "def returnLabels(x, index1, index2, index3):\n",
    "    # x is the sequence in this fucntion\n",
    "    \n",
    "    # Specifying the conditions below to categorise the points into 2 categories.\n",
    "    if x[index1] < 0 and x[index2] < 0 and x[index3] < 0:\n",
    "        return 1\n",
    "    elif x[index1] < 0 and x[index2] > 0 and x[index3] > 0:\n",
    "        return 1\n",
    "    elif x[index1] > 0 and x[index2] > 0 and x[index3] < 0:\n",
    "        return 1\n",
    "    elif x[index1] > 0 and x[index2] < 0 and x[index3] > 0:\n",
    "        return 1\n",
    "    else:\n",
    "        return 0"
   ]
  },
  {
   "cell_type": "markdown",
   "metadata": {},
   "source": [
    "## Generating Shorter Sequences which are easy to remember"
   ]
  },
  {
   "cell_type": "code",
   "execution_count": 6,
   "metadata": {},
   "outputs": [],
   "source": [
    "Sequence_Length = 9\n",
    "data = []\n",
    "labels = []\n",
    "\n",
    "for i in range(5000):\n",
    "    temp = np.random.randn(Sequence_Length)\n",
    "    data.append(temp)\n",
    "    \n",
    "    # Using the Last 3 elements of the sequence for the category prediction which is easy!\n",
    "    labels.append(returnLabels(temp, -1, -2, -3))\n",
    "    \n",
    "data, labels = np.array(data), np.array(labels)"
   ]
  },
  {
   "cell_type": "code",
   "execution_count": null,
   "metadata": {},
   "outputs": [],
   "source": [
    "## Building a Model"
   ]
  }
 ],
 "metadata": {
  "kernelspec": {
   "display_name": "Python 3",
   "language": "python",
   "name": "python3"
  },
  "language_info": {
   "codemirror_mode": {
    "name": "ipython",
    "version": 3
   },
   "file_extension": ".py",
   "mimetype": "text/x-python",
   "name": "python",
   "nbconvert_exporter": "python",
   "pygments_lexer": "ipython3",
   "version": "3.7.9"
  }
 },
 "nbformat": 4,
 "nbformat_minor": 4
}
