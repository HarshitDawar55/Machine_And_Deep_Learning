{
 "cells": [
  {
   "cell_type": "markdown",
   "metadata": {},
   "source": [
    "# Classification of MNIST Dataset using CNN"
   ]
  },
  {
   "cell_type": "code",
   "execution_count": 1,
   "metadata": {},
   "outputs": [
    {
     "name": "stderr",
     "output_type": "stream",
     "text": [
      "Using TensorFlow backend.\n",
      "/Users/harshitdawar/.local/lib/python3.7/site-packages/tensorflow/python/framework/dtypes.py:516: FutureWarning: Passing (type, 1) or '1type' as a synonym of type is deprecated; in a future version of numpy, it will be understood as (type, (1,)) / '(1,)type'.\n",
      "  _np_qint8 = np.dtype([(\"qint8\", np.int8, 1)])\n",
      "/Users/harshitdawar/.local/lib/python3.7/site-packages/tensorflow/python/framework/dtypes.py:517: FutureWarning: Passing (type, 1) or '1type' as a synonym of type is deprecated; in a future version of numpy, it will be understood as (type, (1,)) / '(1,)type'.\n",
      "  _np_quint8 = np.dtype([(\"quint8\", np.uint8, 1)])\n",
      "/Users/harshitdawar/.local/lib/python3.7/site-packages/tensorflow/python/framework/dtypes.py:518: FutureWarning: Passing (type, 1) or '1type' as a synonym of type is deprecated; in a future version of numpy, it will be understood as (type, (1,)) / '(1,)type'.\n",
      "  _np_qint16 = np.dtype([(\"qint16\", np.int16, 1)])\n",
      "/Users/harshitdawar/.local/lib/python3.7/site-packages/tensorflow/python/framework/dtypes.py:519: FutureWarning: Passing (type, 1) or '1type' as a synonym of type is deprecated; in a future version of numpy, it will be understood as (type, (1,)) / '(1,)type'.\n",
      "  _np_quint16 = np.dtype([(\"quint16\", np.uint16, 1)])\n",
      "/Users/harshitdawar/.local/lib/python3.7/site-packages/tensorflow/python/framework/dtypes.py:520: FutureWarning: Passing (type, 1) or '1type' as a synonym of type is deprecated; in a future version of numpy, it will be understood as (type, (1,)) / '(1,)type'.\n",
      "  _np_qint32 = np.dtype([(\"qint32\", np.int32, 1)])\n",
      "/Users/harshitdawar/.local/lib/python3.7/site-packages/tensorflow/python/framework/dtypes.py:525: FutureWarning: Passing (type, 1) or '1type' as a synonym of type is deprecated; in a future version of numpy, it will be understood as (type, (1,)) / '(1,)type'.\n",
      "  np_resource = np.dtype([(\"resource\", np.ubyte, 1)])\n"
     ]
    }
   ],
   "source": [
    "#Importing the required classes \n",
    "from keras.datasets import mnist\n",
    "from keras.models import Sequential\n",
    "from keras.layers import Dense, Flatten, Dropout, Conv2D, MaxPooling2D\n",
    "from sklearn.metrics import confusion_matrix\n",
    "from seaborn import heatmap as HM\n",
    "import numpy as np"
   ]
  },
  {
   "cell_type": "code",
   "execution_count": 2,
   "metadata": {},
   "outputs": [],
   "source": [
    "# Importing Dataset\n",
    "(x_train, y_train), (x_test, y_test) = mnist.load_data()\n",
    "x_train, x_test = x_train / 255, x_test / 255"
   ]
  },
  {
   "cell_type": "code",
   "execution_count": 3,
   "metadata": {},
   "outputs": [],
   "source": [
    "# Reshaping the Data acoording to the CNN requirements\n",
    "x_train = np.expand_dims(x_train, -1)\n",
    "x_test = np.expand_dims(x_test, -1)"
   ]
  },
  {
   "cell_type": "code",
   "execution_count": 4,
   "metadata": {},
   "outputs": [],
   "source": [
    "# Checking the number of output classes\n",
    "number_of_classes = len(set(y_train))"
   ]
  },
  {
   "cell_type": "code",
   "execution_count": 5,
   "metadata": {},
   "outputs": [
    {
     "name": "stdout",
     "output_type": "stream",
     "text": [
      "WARNING:tensorflow:From /opt/anaconda3/lib/python3.7/site-packages/keras/backend/tensorflow_backend.py:4070: The name tf.nn.max_pool is deprecated. Please use tf.nn.max_pool2d instead.\n",
      "\n"
     ]
    }
   ],
   "source": [
    "model = Sequential()\n",
    "model.add(Conv2D(filters = 32,\n",
    "                kernel_size = (3,3),\n",
    "#                 strides = 2,\n",
    "                 activation = \"relu\",\n",
    "                 input_shape = x_train[0].shape\n",
    "                ))\n",
    "\n",
    "model.add(MaxPooling2D(2,2))\n",
    "\n",
    "model.add(Conv2D(filters = 64,\n",
    "                kernel_size = (3,3),\n",
    "#                 strides = 2,\n",
    "                 activation = \"relu\"                \n",
    "                ))\n",
    "\n",
    "model.add(MaxPooling2D(2,2))\n",
    "\n",
    "model.add(Conv2D(filters = 128,\n",
    "                kernel_size = (3,3),\n",
    "#                 strides = 2,\n",
    "                 activation = \"relu\",\n",
    "                ))\n",
    "\n",
    "model.add(MaxPooling2D(2,2))\n",
    "\n",
    "model.add(Flatten())\n",
    "model.add(Dropout(0.3))\n",
    "model.add(Dense(512, activation = \"relu\"))\n",
    "model.add(Dropout(0.3))\n",
    "model.add(Dense(number_of_classes, activation = \"softmax\"))"
   ]
  },
  {
   "cell_type": "code",
   "execution_count": 6,
   "metadata": {},
   "outputs": [
    {
     "name": "stdout",
     "output_type": "stream",
     "text": [
      "Model: \"sequential_1\"\n",
      "_________________________________________________________________\n",
      "Layer (type)                 Output Shape              Param #   \n",
      "=================================================================\n",
      "conv2d_1 (Conv2D)            (None, 26, 26, 32)        320       \n",
      "_________________________________________________________________\n",
      "max_pooling2d_1 (MaxPooling2 (None, 13, 13, 32)        0         \n",
      "_________________________________________________________________\n",
      "conv2d_2 (Conv2D)            (None, 11, 11, 64)        18496     \n",
      "_________________________________________________________________\n",
      "max_pooling2d_2 (MaxPooling2 (None, 5, 5, 64)          0         \n",
      "_________________________________________________________________\n",
      "conv2d_3 (Conv2D)            (None, 3, 3, 128)         73856     \n",
      "_________________________________________________________________\n",
      "max_pooling2d_3 (MaxPooling2 (None, 1, 1, 128)         0         \n",
      "_________________________________________________________________\n",
      "flatten_1 (Flatten)          (None, 128)               0         \n",
      "_________________________________________________________________\n",
      "dropout_1 (Dropout)          (None, 128)               0         \n",
      "_________________________________________________________________\n",
      "dense_1 (Dense)              (None, 512)               66048     \n",
      "_________________________________________________________________\n",
      "dropout_2 (Dropout)          (None, 512)               0         \n",
      "_________________________________________________________________\n",
      "dense_2 (Dense)              (None, 10)                5130      \n",
      "=================================================================\n",
      "Total params: 163,850\n",
      "Trainable params: 163,850\n",
      "Non-trainable params: 0\n",
      "_________________________________________________________________\n"
     ]
    }
   ],
   "source": [
    "# Checking the summary of the Model\n",
    "model.summary()"
   ]
  },
  {
   "cell_type": "code",
   "execution_count": null,
   "metadata": {},
   "outputs": [
    {
     "name": "stdout",
     "output_type": "stream",
     "text": [
      "WARNING:tensorflow:From /opt/anaconda3/lib/python3.7/site-packages/keras/backend/tensorflow_backend.py:422: The name tf.global_variables is deprecated. Please use tf.compat.v1.global_variables instead.\n",
      "\n",
      "Train on 60000 samples, validate on 10000 samples\n",
      "Epoch 1/10\n",
      "60000/60000 [==============================] - 48s 806us/step - loss: 0.2437 - accuracy: 0.9230 - val_loss: 0.0650 - val_accuracy: 0.9788\n",
      "Epoch 2/10\n",
      "60000/60000 [==============================] - 50s 840us/step - loss: 0.0894 - accuracy: 0.9738 - val_loss: 0.0544 - val_accuracy: 0.9835\n",
      "Epoch 3/10\n",
      "60000/60000 [==============================] - 49s 816us/step - loss: 0.0675 - accuracy: 0.9800 - val_loss: 0.0542 - val_accuracy: 0.9848\n",
      "Epoch 4/10\n",
      "60000/60000 [==============================] - 46s 774us/step - loss: 0.0562 - accuracy: 0.9831 - val_loss: 0.0442 - val_accuracy: 0.9875\n",
      "Epoch 5/10\n",
      "60000/60000 [==============================] - 96s 2ms/step - loss: 0.0477 - accuracy: 0.9853 - val_loss: 0.0542 - val_accuracy: 0.9856\n",
      "Epoch 6/10\n",
      "60000/60000 [==============================] - 116s 2ms/step - loss: 0.0424 - accuracy: 0.9873 - val_loss: 0.0410 - val_accuracy: 0.9884\n",
      "Epoch 7/10\n",
      "60000/60000 [==============================] - 68s 1ms/step - loss: 0.0352 - accuracy: 0.9889 - val_loss: 0.0493 - val_accuracy: 0.9874\n",
      "Epoch 8/10\n",
      "60000/60000 [==============================] - 54s 898us/step - loss: 0.0341 - accuracy: 0.9894 - val_loss: 0.0505 - val_accuracy: 0.9873\n",
      "Epoch 9/10\n",
      "60000/60000 [==============================] - 107s 2ms/step - loss: 0.0309 - accuracy: 0.9905 - val_loss: 0.0495 - val_accuracy: 0.9877\n",
      "Epoch 10/10\n",
      "46400/60000 [======================>.......] - ETA: 20s - loss: 0.0278 - accuracy: 0.9911"
     ]
    }
   ],
   "source": [
    "# Compiling and Fitting the Model\n",
    "\n",
    "model.compile(optimizer = \"adam\", loss = \"sparse_categorical_crossentropy\", metrics = [\"accuracy\"])\n",
    "trained_model = model.fit(x_train,\n",
    "                         y_train,\n",
    "                         verbose = 1,\n",
    "                          epochs = 10,\n",
    "                          validation_data=(x_test, y_test)\n",
    "                         )"
   ]
  },
  {
   "cell_type": "code",
   "execution_count": null,
   "metadata": {},
   "outputs": [],
   "source": [
    "y_pred = model.predict_classes(x_test)"
   ]
  },
  {
   "cell_type": "markdown",
   "metadata": {},
   "source": [
    "## Plotting the Model Result"
   ]
  },
  {
   "cell_type": "code",
   "execution_count": null,
   "metadata": {},
   "outputs": [],
   "source": [
    "import matplotlib.pyplot as plt\n",
    "plt.style.use(\"seaborn\")\n",
    "plt.figure(figsize = (15,9))\n",
    "plt.plot(trained_model.history[\"loss\"], label = \"loss\")\n",
    "plt.plot(trained_model.history[\"val_loss\"], label = \"val_loss\")\n",
    "plt.plot(trained_model.history[\"accuracy\"], label = \"accuracy\", linestyle = \"dotted\", linewidth = 5)\n",
    "plt.plot(trained_model.history[\"val_accuracy\"], label = \"val_accuracy\", linestyle = \"--\", linewidth = 5)\n",
    "plt.xlabel(\"Epochs\")\n",
    "plt.ylabel(\"Loss & Accuracy\")\n",
    "plt.title(\"Loss VS Accuracy Graph\")\n",
    "plt.legend()\n",
    "plt.show()"
   ]
  },
  {
   "cell_type": "code",
   "execution_count": null,
   "metadata": {},
   "outputs": [],
   "source": [
    "fig, ax = plt.subplots(9,9, figsize = (15,15))\n",
    "ax = ax.ravel()\n",
    "\n",
    "for i in np.arange(0, 81):\n",
    "    ax[i].imshow(x_test[i].reshape(x_test[i].shape[0], x_test[i].shape[1] ), cmap = \"gray\")\n",
    "    ax[i].set_title(\"Prediction = {}\\nActual = {}\".format(y_pred[i], y_test[i]))\n",
    "    ax[i].axis(\"off\")\n",
    "\n",
    "plt.subplots_adjust(hspace = 1)"
   ]
  },
  {
   "cell_type": "code",
   "execution_count": null,
   "metadata": {},
   "outputs": [],
   "source": []
  },
  {
   "cell_type": "markdown",
   "metadata": {},
   "source": [
    "# Completed the Project!"
   ]
  }
 ],
 "metadata": {
  "kernelspec": {
   "display_name": "Python 3",
   "language": "python",
   "name": "python3"
  },
  "language_info": {
   "codemirror_mode": {
    "name": "ipython",
    "version": 3
   },
   "file_extension": ".py",
   "mimetype": "text/x-python",
   "name": "python",
   "nbconvert_exporter": "python",
   "pygments_lexer": "ipython3",
   "version": "3.7.7"
  }
 },
 "nbformat": 4,
 "nbformat_minor": 4
}
