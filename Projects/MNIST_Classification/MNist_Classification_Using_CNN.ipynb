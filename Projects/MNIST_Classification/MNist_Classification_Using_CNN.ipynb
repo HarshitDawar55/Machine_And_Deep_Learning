{
 "cells": [
  {
   "cell_type": "markdown",
   "metadata": {},
   "source": [
    "# Classification of MNIST Dataset using CNN"
   ]
  },
  {
   "cell_type": "code",
   "execution_count": 6,
   "metadata": {},
   "outputs": [],
   "source": [
    "#Importing the required classes \n",
    "from keras.datasets import mnist\n",
    "from keras.models import Sequential\n",
    "from keras.layers import Dense, Flatten, Dropout, Conv2D, MaxPooling2D\n",
    "from sklearn.metrics import confusion_matrix\n",
    "from seaborn import heatmap as HM\n",
    "import numpy as np"
   ]
  },
  {
   "cell_type": "code",
   "execution_count": 4,
   "metadata": {},
   "outputs": [],
   "source": [
    "# Importing Dataset\n",
    "(x_train, y_train), (x_test, y_test) = mnist.load_data()\n",
    "x_train, x_test = x_train / 255, x_test / 255"
   ]
  },
  {
   "cell_type": "code",
   "execution_count": 7,
   "metadata": {},
   "outputs": [],
   "source": [
    "# Reshaping the Data acoording to the CNN requirements\n",
    "x_train = np.expand_dims(x_train, -1)\n",
    "x_test = np.expand_dims(x_test, -1)"
   ]
  },
  {
   "cell_type": "code",
   "execution_count": 10,
   "metadata": {},
   "outputs": [],
   "source": [
    "# Checking the number of output classes\n",
    "number_of_classes = len(set(y_train))"
   ]
  },
  {
   "cell_type": "code",
   "execution_count": 11,
   "metadata": {},
   "outputs": [],
   "source": [
    "model = Sequential()\n",
    "model.add(Conv2D(filters = 32,\n",
    "                kernel_size = (3,3),\n",
    "#                 strides = 2,\n",
    "                 activation = \"relu\",\n",
    "                 input_shape = x_train[0].shape\n",
    "                ))\n",
    "\n",
    "model.add(MaxPooling2D(2,2))\n",
    "\n",
    "model.add(Conv2D(filters = 64,\n",
    "                kernel_size = (3,3),\n",
    "#                 strides = 2,\n",
    "                 activation = \"relu\"                \n",
    "                ))\n",
    "\n",
    "model.add(MaxPooling2D(2,2))\n",
    "\n",
    "model.add(Conv2D(filters = 128,\n",
    "                kernel_size = (3,3),\n",
    "#                 strides = 2,\n",
    "                 activation = \"relu\",\n",
    "                ))\n",
    "\n",
    "model.add(MaxPooling2D(2,2))\n",
    "\n",
    "model.add(Flatten())\n",
    "model.add(Dropout(0.3))\n",
    "model.add(Dense(512, activation = \"relu\"))\n",
    "model.add(Dropout(0.3))\n",
    "model.add(Dense(number_of_classes, activation = \"softmax\"))"
   ]
  },
  {
   "cell_type": "code",
   "execution_count": 12,
   "metadata": {},
   "outputs": [
    {
     "name": "stdout",
     "output_type": "stream",
     "text": [
      "Model: \"sequential_3\"\n",
      "_________________________________________________________________\n",
      "Layer (type)                 Output Shape              Param #   \n",
      "=================================================================\n",
      "conv2d_5 (Conv2D)            (None, 26, 26, 32)        320       \n",
      "_________________________________________________________________\n",
      "max_pooling2d_4 (MaxPooling2 (None, 13, 13, 32)        0         \n",
      "_________________________________________________________________\n",
      "conv2d_6 (Conv2D)            (None, 11, 11, 64)        18496     \n",
      "_________________________________________________________________\n",
      "max_pooling2d_5 (MaxPooling2 (None, 5, 5, 64)          0         \n",
      "_________________________________________________________________\n",
      "conv2d_7 (Conv2D)            (None, 3, 3, 128)         73856     \n",
      "_________________________________________________________________\n",
      "max_pooling2d_6 (MaxPooling2 (None, 1, 1, 128)         0         \n",
      "_________________________________________________________________\n",
      "flatten_2 (Flatten)          (None, 128)               0         \n",
      "_________________________________________________________________\n",
      "dropout_3 (Dropout)          (None, 128)               0         \n",
      "_________________________________________________________________\n",
      "dense_2 (Dense)              (None, 512)               66048     \n",
      "_________________________________________________________________\n",
      "dropout_4 (Dropout)          (None, 512)               0         \n",
      "_________________________________________________________________\n",
      "dense_3 (Dense)              (None, 10)                5130      \n",
      "=================================================================\n",
      "Total params: 163,850\n",
      "Trainable params: 163,850\n",
      "Non-trainable params: 0\n",
      "_________________________________________________________________\n"
     ]
    }
   ],
   "source": [
    "# Checking the summary of the Model\n",
    "model.summary()"
   ]
  },
  {
   "cell_type": "code",
   "execution_count": 13,
   "metadata": {},
   "outputs": [
    {
     "name": "stdout",
     "output_type": "stream",
     "text": [
      "WARNING:tensorflow:From /opt/anaconda3/lib/python3.7/site-packages/keras/backend/tensorflow_backend.py:422: The name tf.global_variables is deprecated. Please use tf.compat.v1.global_variables instead.\n",
      "\n",
      "Train on 60000 samples, validate on 10000 samples\n",
      "Epoch 1/10\n",
      "60000/60000 [==============================] - 52s 864us/step - loss: 0.2421 - accuracy: 0.9251 - val_loss: 0.0669 - val_accuracy: 0.9793\n",
      "Epoch 2/10\n",
      "60000/60000 [==============================] - 50s 836us/step - loss: 0.0905 - accuracy: 0.9733 - val_loss: 0.0659 - val_accuracy: 0.9790\n",
      "Epoch 3/10\n",
      "60000/60000 [==============================] - 50s 840us/step - loss: 0.0688 - accuracy: 0.9793 - val_loss: 0.0623 - val_accuracy: 0.9805\n",
      "Epoch 4/10\n",
      "60000/60000 [==============================] - 68s 1ms/step - loss: 0.0576 - accuracy: 0.9832 - val_loss: 0.0468 - val_accuracy: 0.9872\n",
      "Epoch 5/10\n",
      "60000/60000 [==============================] - 69s 1ms/step - loss: 0.0468 - accuracy: 0.9862 - val_loss: 0.0443 - val_accuracy: 0.9868\n",
      "Epoch 6/10\n",
      "60000/60000 [==============================] - 51s 853us/step - loss: 0.0423 - accuracy: 0.9870 - val_loss: 0.0426 - val_accuracy: 0.9883\n",
      "Epoch 7/10\n",
      "60000/60000 [==============================] - 51s 857us/step - loss: 0.0360 - accuracy: 0.9891 - val_loss: 0.0447 - val_accuracy: 0.9881\n",
      "Epoch 8/10\n",
      "60000/60000 [==============================] - 51s 847us/step - loss: 0.0363 - accuracy: 0.9889 - val_loss: 0.0517 - val_accuracy: 0.9866\n",
      "Epoch 9/10\n",
      "60000/60000 [==============================] - 52s 873us/step - loss: 0.0300 - accuracy: 0.9908 - val_loss: 0.0460 - val_accuracy: 0.9890\n",
      "Epoch 10/10\n",
      "60000/60000 [==============================] - 59s 991us/step - loss: 0.0264 - accuracy: 0.9919 - val_loss: 0.0460 - val_accuracy: 0.9880\n"
     ]
    }
   ],
   "source": [
    "# Compiling and Fitting the Model\n",
    "\n",
    "model.compile(optimizer = \"adam\", loss = \"sparse_categorical_crossentropy\", metrics = [\"accuracy\"])\n",
    "trained_model = model.fit(x_train,\n",
    "                         y_train,\n",
    "                         verbose = 1,\n",
    "                          epochs = 10,\n",
    "                          validation_data=(x_test, y_test)\n",
    "                         )"
   ]
  },
  {
   "cell_type": "code",
   "execution_count": null,
   "metadata": {},
   "outputs": [],
   "source": []
  }
 ],
 "metadata": {
  "kernelspec": {
   "display_name": "Python 3",
   "language": "python",
   "name": "python3"
  },
  "language_info": {
   "codemirror_mode": {
    "name": "ipython",
    "version": 3
   },
   "file_extension": ".py",
   "mimetype": "text/x-python",
   "name": "python",
   "nbconvert_exporter": "python",
   "pygments_lexer": "ipython3",
   "version": "3.7.7"
  }
 },
 "nbformat": 4,
 "nbformat_minor": 4
}
