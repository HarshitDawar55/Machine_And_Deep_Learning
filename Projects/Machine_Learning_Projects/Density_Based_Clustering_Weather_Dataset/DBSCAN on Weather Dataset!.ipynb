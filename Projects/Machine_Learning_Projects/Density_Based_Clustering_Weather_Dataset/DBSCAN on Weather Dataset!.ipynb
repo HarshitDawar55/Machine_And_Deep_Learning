{
 "cells": [
  {
   "cell_type": "markdown",
   "metadata": {},
   "source": [
    "# DBSCAN spatial clustering on weather data by `Mr. Harshit Dawar`!\n",
    "* It stands for Density Based Spatial clustering of applications with Noise.\n",
    "* It works based on density of points in a particular radius.\n",
    "* It is one of the most commonly used algorithms.\n",
    "* It has 2 parameters on which it works:\n",
    "  * Radius: It is the radius of the neirhborhood, if it includes enough points then it is known as Dense Area.\n",
    "  * Minimum number of neighbors: These are the min. no. of points that should be present in the radius to define a cluster."
   ]
  },
  {
   "cell_type": "code",
   "execution_count": null,
   "metadata": {},
   "outputs": [],
   "source": []
  }
 ],
 "metadata": {
  "kernelspec": {
   "display_name": "Python 3",
   "language": "python",
   "name": "python3"
  },
  "language_info": {
   "codemirror_mode": {
    "name": "ipython",
    "version": 3
   },
   "file_extension": ".py",
   "mimetype": "text/x-python",
   "name": "python",
   "nbconvert_exporter": "python",
   "pygments_lexer": "ipython3",
   "version": "3.7.7"
  }
 },
 "nbformat": 4,
 "nbformat_minor": 4
}
