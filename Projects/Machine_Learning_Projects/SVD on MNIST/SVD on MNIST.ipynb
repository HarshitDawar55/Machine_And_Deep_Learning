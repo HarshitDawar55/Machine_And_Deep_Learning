{
 "cells": [
  {
   "cell_type": "markdown",
   "id": "d7856235",
   "metadata": {},
   "source": [
    "# Using SVD to do Dimensionality Reduction on MNIST Dataset by `Mr. Harshit Dawar!`\n",
    "\n",
    "* **Note: Using normal SVD form either Numpy or Scipy, one can't mention the no. of features to select, whereas, using truncated SVD, gives you the authority to mention the no. of features to select.**\n",
    "\n",
    "\n",
    "* **Moreover, SVD use-cases are data compression & dimensionality reduction, whereas PCA can be used for dimensionality reduction, & the situations where the variance is most concerned thing. PCA internally uses SVD to decompose the covariance matrix instead of performing EigenDecomposition because SVD is much more efficient than the normal Eigen Decomposition as it can handle sparse matrixes (non-squre matrices).**"
   ]
  },
  {
   "cell_type": "markdown",
   "id": "eaff52e8",
   "metadata": {},
   "source": [
    "## Importing the required Libraries"
   ]
  },
  {
   "cell_type": "code",
   "execution_count": 1,
   "id": "5a26ac6b",
   "metadata": {},
   "outputs": [],
   "source": [
    "import numpy as np\n",
    "import pandas as pd\n",
    "from sklearn.decomposition import TruncatedSVD\n",
    "from sklearn.datasets import load_digits\n",
    "from sklearn.preprocessing import MinMaxScaler\n",
    "from sklearn.metrics import classification_report, confusion_matrix\n",
    "import seaborn as sns\n",
    "from sklearn.svm import SVC\n",
    "from sklearn.model_selection import train_test_split"
   ]
  },
  {
   "cell_type": "code",
   "execution_count": null,
   "id": "bda77e42",
   "metadata": {},
   "outputs": [],
   "source": []
  }
 ],
 "metadata": {
  "kernelspec": {
   "display_name": "Python 3 (ipykernel)",
   "language": "python",
   "name": "python3"
  },
  "language_info": {
   "codemirror_mode": {
    "name": "ipython",
    "version": 3
   },
   "file_extension": ".py",
   "mimetype": "text/x-python",
   "name": "python",
   "nbconvert_exporter": "python",
   "pygments_lexer": "ipython3",
   "version": "3.9.7"
  }
 },
 "nbformat": 4,
 "nbformat_minor": 5
}
