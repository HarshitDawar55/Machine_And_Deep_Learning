{
 "cells": [
  {
   "cell_type": "markdown",
   "id": "a79dad97",
   "metadata": {},
   "source": [
    "# DBSCAN clustering on IRIS Dataset using PCA by Mr. Harshit Dawar!"
   ]
  },
  {
   "cell_type": "code",
   "execution_count": 34,
   "id": "0d1d1f50",
   "metadata": {},
   "outputs": [],
   "source": [
    "# Importing Required Libraries\n",
    "import pandas as pd\n",
    "import numpy as np\n",
    "import matplotlib.pyplot as plt\n",
    "from sklearn.cluster import DBSCAN\n",
    "from sklearn.decomposition import PCA\n",
    "from sklearn.datasets import load_iris\n",
    "import seaborn as sns"
   ]
  },
  {
   "cell_type": "markdown",
   "id": "590303cc",
   "metadata": {},
   "source": [
    "## Data Preprocessing"
   ]
  },
  {
   "cell_type": "code",
   "execution_count": 2,
   "id": "0ad2df96",
   "metadata": {},
   "outputs": [],
   "source": [
    "iris_data, labels = load_iris(return_X_y=True)"
   ]
  },
  {
   "cell_type": "code",
   "execution_count": 4,
   "id": "ced0f9d8",
   "metadata": {},
   "outputs": [
    {
     "data": {
      "text/plain": [
       "(150, 4)"
      ]
     },
     "execution_count": 4,
     "metadata": {},
     "output_type": "execute_result"
    }
   ],
   "source": [
    "iris_data.shape"
   ]
  },
  {
   "cell_type": "code",
   "execution_count": 5,
   "id": "02804817",
   "metadata": {},
   "outputs": [
    {
     "data": {
      "text/plain": [
       "(150,)"
      ]
     },
     "execution_count": 5,
     "metadata": {},
     "output_type": "execute_result"
    }
   ],
   "source": [
    "labels.shape"
   ]
  },
  {
   "cell_type": "code",
   "execution_count": 6,
   "id": "9ed7ce99",
   "metadata": {},
   "outputs": [
    {
     "data": {
      "text/plain": [
       "array([[5.1, 3.5, 1.4, 0.2],\n",
       "       [4.9, 3. , 1.4, 0.2],\n",
       "       [4.7, 3.2, 1.3, 0.2],\n",
       "       [4.6, 3.1, 1.5, 0.2],\n",
       "       [5. , 3.6, 1.4, 0.2]])"
      ]
     },
     "execution_count": 6,
     "metadata": {},
     "output_type": "execute_result"
    }
   ],
   "source": [
    "iris_data[:5]"
   ]
  },
  {
   "cell_type": "code",
   "execution_count": 7,
   "id": "4e5fe147",
   "metadata": {},
   "outputs": [
    {
     "data": {
      "text/plain": [
       "array([0, 0, 0, 0, 0])"
      ]
     },
     "execution_count": 7,
     "metadata": {},
     "output_type": "execute_result"
    }
   ],
   "source": [
    "labels[:5]"
   ]
  },
  {
   "cell_type": "code",
   "execution_count": 19,
   "id": "b9129f56",
   "metadata": {},
   "outputs": [
    {
     "data": {
      "text/plain": [
       "array([0, 1, 2])"
      ]
     },
     "execution_count": 19,
     "metadata": {},
     "output_type": "execute_result"
    }
   ],
   "source": [
    "np.unique(labels)"
   ]
  },
  {
   "cell_type": "code",
   "execution_count": 8,
   "id": "0a7dfd37",
   "metadata": {},
   "outputs": [],
   "source": [
    "# Reducing the Dimensions of the data\n",
    "dim_reducer = PCA(n_components = 2)"
   ]
  },
  {
   "cell_type": "code",
   "execution_count": 9,
   "id": "5bb7b89c",
   "metadata": {},
   "outputs": [],
   "source": [
    "dim_reduced_data = dim_reducer.fit_transform(iris_data)"
   ]
  },
  {
   "cell_type": "code",
   "execution_count": 10,
   "id": "185d7cfc",
   "metadata": {},
   "outputs": [
    {
     "data": {
      "text/plain": [
       "(150, 2)"
      ]
     },
     "execution_count": 10,
     "metadata": {},
     "output_type": "execute_result"
    }
   ],
   "source": [
    "dim_reduced_data.shape"
   ]
  },
  {
   "cell_type": "code",
   "execution_count": 15,
   "id": "57f14832",
   "metadata": {},
   "outputs": [],
   "source": [
    "# Applying the Density Based Clustering\n",
    "clusterizer = DBSCAN(eps = 0.5, min_samples = 5)"
   ]
  },
  {
   "cell_type": "code",
   "execution_count": 17,
   "id": "1209b273",
   "metadata": {},
   "outputs": [],
   "source": [
    "# Fitting the data as well getting the predictions\n",
    "predictions = clusterizer.fit_predict(dim_reduced_data)"
   ]
  },
  {
   "cell_type": "code",
   "execution_count": 18,
   "id": "0101ae2a",
   "metadata": {},
   "outputs": [
    {
     "data": {
      "text/plain": [
       "(array([-1,  0,  1]), array([ 7, 50, 93]))"
      ]
     },
     "execution_count": 18,
     "metadata": {},
     "output_type": "execute_result"
    }
   ],
   "source": [
    "np.unique(predictions, return_counts = True)"
   ]
  },
  {
   "cell_type": "code",
   "execution_count": 33,
   "id": "7f16b316",
   "metadata": {},
   "outputs": [
    {
     "data": {
      "image/png": "[encoded data removed]",
      "text/plain": [
       "<Figure size 1080x648 with 1 Axes>"
      ]
     },
     "metadata": {
      "needs_background": "light"
     },
     "output_type": "display_data"
    }
   ],
   "source": [
    "# Approach 1 of plotting the figure\n",
    "plt.figure(figsize = (15, 9))\n",
    "for i in range(predictions.shape[0]):\n",
    "    if predictions[i] == 0:\n",
    "        plt.scatter(dim_reduced_data[i, 0],\n",
    "                    dim_reduced_data[i, 1],\n",
    "                    c = \"r\",\n",
    "                    marker = \"o\",\n",
    "                    label = \"Cluster 1\",\n",
    "                    s = 100)\n",
    "\n",
    "        plt.text(center_of_x,\n",
    "         center_of_y,\n",
    "        \"2\",\n",
    "        fontsize = 50,\n",
    "        color = \"Purple\")\n",
    "        \n",
    "    elif predictions[i] == 1:\n",
    "        plt.scatter(dim_reduced_data[i, 0],\n",
    "                    dim_reduced_data[i, 1],\n",
    "                    c = \"g\",\n",
    "                    marker = \"*\",\n",
    "                    label = \"Cluster 2\",\n",
    "                    s = 100)\n",
    "\n",
    "    elif predictions[i] == -1:\n",
    "        plt.scatter(dim_reduced_data[i, 0],\n",
    "                    dim_reduced_data[i, 1],\n",
    "                    c = \"brown\",\n",
    "                    marker = \"+\", \n",
    "                    label = \"Outliers\",\n",
    "                    s = 100)\n",
    "    else:\n",
    "        pass\n",
    "plt.show()"
   ]
  },
  {
   "cell_type": "code",
   "execution_count": 56,
   "id": "a0eee2cd",
   "metadata": {},
   "outputs": [
    {
     "data": {
      "image/png": "[encoded data removed]",
      "text/plain": [
       "<Figure size 1080x648 with 1 Axes>"
      ]
     },
     "metadata": {
      "needs_background": "light"
     },
     "output_type": "display_data"
    }
   ],
   "source": [
    "# Approach 2 of plotting the figure\n",
    "plt.figure(figsize = (15, 9))\n",
    "plt.scatter(dim_reduced_data[predictions == 0, 0],\n",
    "            dim_reduced_data[predictions == 0, 1],\n",
    "            c = \"r\",\n",
    "            marker = \"^\",\n",
    "            label = \"Cluster 1\",\n",
    "            s = 100)\n",
    "        \n",
    "plt.scatter(dim_reduced_data[predictions == 1, 0],\n",
    "            dim_reduced_data[predictions == 1, 1],\n",
    "            c = \"g\",\n",
    "            marker = \"*\",\n",
    "            label = \"Cluster 2\",\n",
    "            s = 100)\n",
    "\n",
    "plt.scatter(dim_reduced_data[predictions == -1, 0],\n",
    "            dim_reduced_data[predictions == -1, 1],\n",
    "            c = \"brown\",\n",
    "            marker = \"+\",\n",
    "            label = \"Outliers\",\n",
    "            s = 100)\n",
    "\n",
    "plt.legend(loc = \"lower right\")\n",
    "plt.title(\"DBSCAN output showcasing Noise and 2 Clusters\", size = 15)\n",
    "plt.show()"
   ]
  },
  {
   "cell_type": "code",
   "execution_count": null,
   "id": "06db1363",
   "metadata": {},
   "outputs": [],
   "source": []
  }
 ],
 "metadata": {
  "kernelspec": {
   "display_name": "Python 3 (ipykernel)",
   "language": "python",
   "name": "python3"
  },
  "language_info": {
   "codemirror_mode": {
    "name": "ipython",
    "version": 3
   },
   "file_extension": ".py",
   "mimetype": "text/x-python",
   "name": "python",
   "nbconvert_exporter": "python",
   "pygments_lexer": "ipython3",
   "version": "3.9.7"
  }
 },
 "nbformat": 4,
 "nbformat_minor": 5
}
