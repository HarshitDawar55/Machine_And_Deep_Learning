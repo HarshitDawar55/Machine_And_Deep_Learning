{
 "cells": [
  {
   "cell_type": "markdown",
   "id": "999c7c01",
   "metadata": {},
   "source": [
    "# DBSCAN clustering on IRIS Dataset using PCA by Mr. Harshit Dawar!"
   ]
  },
  {
   "cell_type": "code",
   "execution_count": 34,
   "id": "897d6b2d",
   "metadata": {},
   "outputs": [],
   "source": [
    "# Importing Required Libraries\n",
    "import pandas as pd\n",
    "import numpy as np\n",
    "import matplotlib.pyplot as plt\n",
    "from sklearn.cluster import DBSCAN\n",
    "from sklearn.decomposition import PCA\n",
    "from sklearn.datasets import load_iris\n",
    "import seaborn as sns"
   ]
  },
  {
   "cell_type": "markdown",
   "id": "5f2eb0f3",
   "metadata": {},
   "source": [
    "## Data Preprocessing"
   ]
  },
  {
   "cell_type": "code",
   "execution_count": 2,
   "id": "e7205e26",
   "metadata": {},
   "outputs": [],
   "source": [
    "iris_data, labels = load_iris(return_X_y=True)"
   ]
  },
  {
   "cell_type": "code",
   "execution_count": 4,
   "id": "f61279c4",
   "metadata": {},
   "outputs": [
    {
     "data": {
      "text/plain": [
       "(150, 4)"
      ]
     },
     "execution_count": 4,
     "metadata": {},
     "output_type": "execute_result"
    }
   ],
   "source": [
    "iris_data.shape"
   ]
  },
  {
   "cell_type": "code",
   "execution_count": 5,
   "id": "d23a4f16",
   "metadata": {},
   "outputs": [
    {
     "data": {
      "text/plain": [
       "(150,)"
      ]
     },
     "execution_count": 5,
     "metadata": {},
     "output_type": "execute_result"
    }
   ],
   "source": [
    "labels.shape"
   ]
  },
  {
   "cell_type": "code",
   "execution_count": 6,
   "id": "6b4c2eb9",
   "metadata": {},
   "outputs": [
    {
     "data": {
      "text/plain": [
       "array([[5.1, 3.5, 1.4, 0.2],\n",
       "       [4.9, 3. , 1.4, 0.2],\n",
       "       [4.7, 3.2, 1.3, 0.2],\n",
       "       [4.6, 3.1, 1.5, 0.2],\n",
       "       [5. , 3.6, 1.4, 0.2]])"
      ]
     },
     "execution_count": 6,
     "metadata": {},
     "output_type": "execute_result"
    }
   ],
   "source": [
    "iris_data[:5]"
   ]
  },
  {
   "cell_type": "code",
   "execution_count": 7,
   "id": "f75fbec3",
   "metadata": {},
   "outputs": [
    {
     "data": {
      "text/plain": [
       "array([0, 0, 0, 0, 0])"
      ]
     },
     "execution_count": 7,
     "metadata": {},
     "output_type": "execute_result"
    }
   ],
   "source": [
    "labels[:5]"
   ]
  },
  {
   "cell_type": "code",
   "execution_count": 19,
   "id": "2c7c048f",
   "metadata": {},
   "outputs": [
    {
     "data": {
      "text/plain": [
       "array([0, 1, 2])"
      ]
     },
     "execution_count": 19,
     "metadata": {},
     "output_type": "execute_result"
    }
   ],
   "source": [
    "np.unique(labels)"
   ]
  },
  {
   "cell_type": "markdown",
   "id": "5dfd163f",
   "metadata": {},
   "source": [
    "## Applyting PCA for Dimensionality Reduction"
   ]
  },
  {
   "cell_type": "code",
   "execution_count": 8,
   "id": "55f50650",
   "metadata": {},
   "outputs": [],
   "source": [
    "# Reducing the Dimensions of the data\n",
    "dim_reducer = PCA(n_components = 2)"
   ]
  },
  {
   "cell_type": "code",
   "execution_count": 9,
   "id": "4acb7bcb",
   "metadata": {},
   "outputs": [],
   "source": [
    "dim_reduced_data = dim_reducer.fit_transform(iris_data)"
   ]
  },
  {
   "cell_type": "code",
   "execution_count": 10,
   "id": "cb453fb0",
   "metadata": {},
   "outputs": [
    {
     "data": {
      "text/plain": [
       "(150, 2)"
      ]
     },
     "execution_count": 10,
     "metadata": {},
     "output_type": "execute_result"
    }
   ],
   "source": [
    "dim_reduced_data.shape"
   ]
  },
  {
   "cell_type": "markdown",
   "id": "7da0c121",
   "metadata": {},
   "source": [
    "## Density Based Clustering Starts"
   ]
  },
  {
   "cell_type": "code",
   "execution_count": 15,
   "id": "fbd2343b",
   "metadata": {},
   "outputs": [],
   "source": [
    "# Applying the Density Based Clustering\n",
    "clusterizer = DBSCAN(eps = 0.5, min_samples = 5)"
   ]
  },
  {
   "cell_type": "code",
   "execution_count": 17,
   "id": "86797965",
   "metadata": {},
   "outputs": [],
   "source": [
    "# Fitting the data as well getting the predictions\n",
    "predictions = clusterizer.fit_predict(dim_reduced_data)"
   ]
  },
  {
   "cell_type": "code",
   "execution_count": 18,
   "id": "7f603fe9",
   "metadata": {},
   "outputs": [
    {
     "data": {
      "text/plain": [
       "(array([-1,  0,  1]), array([ 7, 50, 93]))"
      ]
     },
     "execution_count": 18,
     "metadata": {},
     "output_type": "execute_result"
    }
   ],
   "source": [
    "np.unique(predictions, return_counts = True)"
   ]
  },
  {
   "cell_type": "code",
   "execution_count": 57,
   "id": "1040f5c2",
   "metadata": {},
   "outputs": [
    {
     "ename": "NameError",
     "evalue": "name 'center_of_x' is not defined",
     "output_type": "error",
     "traceback": [
      "\u001b[0;31m---------------------------------------------------------------------------\u001b[0m",
      "\u001b[0;31mNameError\u001b[0m                                 Traceback (most recent call last)",
      "\u001b[0;32m/var/folders/kx/6dl4hddn4f1fc5g0yfbpkc740000gs/T/ipykernel_83189/652779391.py\u001b[0m in \u001b[0;36m<module>\u001b[0;34m\u001b[0m\n\u001b[1;32m     10\u001b[0m                     s = 100)\n\u001b[1;32m     11\u001b[0m \u001b[0;34m\u001b[0m\u001b[0m\n\u001b[0;32m---> 12\u001b[0;31m         plt.text(center_of_x,\n\u001b[0m\u001b[1;32m     13\u001b[0m          \u001b[0mcenter_of_y\u001b[0m\u001b[0;34m,\u001b[0m\u001b[0;34m\u001b[0m\u001b[0;34m\u001b[0m\u001b[0m\n\u001b[1;32m     14\u001b[0m         \u001b[0;34m\"2\"\u001b[0m\u001b[0;34m,\u001b[0m\u001b[0;34m\u001b[0m\u001b[0;34m\u001b[0m\u001b[0m\n",
      "\u001b[0;31mNameError\u001b[0m: name 'center_of_x' is not defined"
     ]
    },
    {
     "data": {
      "image/png": "[encoded data removed]",
      "text/plain": [
       "<Figure size 1080x648 with 1 Axes>"
      ]
     },
     "metadata": {
      "needs_background": "light"
     },
     "output_type": "display_data"
    }
   ],
   "source": [
    "# Approach 1 of plotting the figure\n",
    "plt.figure(figsize = (15, 9))\n",
    "for i in range(predictions.shape[0]):\n",
    "    if predictions[i] == 0:\n",
    "        plt.scatter(dim_reduced_data[i, 0],\n",
    "                    dim_reduced_data[i, 1],\n",
    "                    c = \"r\",\n",
    "                    marker = \"o\",\n",
    "                    label = \"Cluster 1\",\n",
    "                    s = 100)\n",
    "        \n",
    "    elif predictions[i] == 1:\n",
    "        plt.scatter(dim_reduced_data[i, 0],\n",
    "                    dim_reduced_data[i, 1],\n",
    "                    c = \"g\",\n",
    "                    marker = \"*\",\n",
    "                    label = \"Cluster 2\",\n",
    "                    s = 100)\n",
    "\n",
    "    elif predictions[i] == -1:\n",
    "        plt.scatter(dim_reduced_data[i, 0],\n",
    "                    dim_reduced_data[i, 1],\n",
    "                    c = \"brown\",\n",
    "                    marker = \"+\", \n",
    "                    label = \"Outliers\",\n",
    "                    s = 100)\n",
    "    else:\n",
    "        pass\n",
    "plt.title(\"DBSCAN output showcasing Noise and 2 Clusters\", size = 15)\n",
    "plt.show()"
   ]
  },
  {
   "cell_type": "code",
   "execution_count": 58,
   "id": "f22ca475",
   "metadata": {},
   "outputs": [
    {
     "data": {
      "image/png": "[encoded data removed]",
      "text/plain": [
       "<Figure size 1080x648 with 1 Axes>"
      ]
     },
     "metadata": {
      "needs_background": "light"
     },
     "output_type": "display_data"
    }
   ],
   "source": [
    "# Approach 2 of plotting the figure\n",
    "plt.figure(figsize = (15, 9))\n",
    "plt.scatter(dim_reduced_data[predictions == 0, 0],\n",
    "            dim_reduced_data[predictions == 0, 1],\n",
    "            c = \"r\",\n",
    "            marker = \"^\",\n",
    "            label = \"Cluster 1\",\n",
    "            s = 100)\n",
    "        \n",
    "plt.scatter(dim_reduced_data[predictions == 1, 0],\n",
    "            dim_reduced_data[predictions == 1, 1],\n",
    "            c = \"g\",\n",
    "            marker = \"*\",\n",
    "            label = \"Cluster 2\",\n",
    "            s = 100)\n",
    "\n",
    "plt.scatter(dim_reduced_data[predictions == -1, 0],\n",
    "            dim_reduced_data[predictions == -1, 1],\n",
    "            c = \"brown\",\n",
    "            marker = \"+\",\n",
    "            label = \"Outliers\",\n",
    "            s = 100)\n",
    "\n",
    "plt.legend(loc = \"lower right\")\n",
    "plt.title(\"DBSCAN output showcasing Noise and 2 Clusters\", size = 15)\n",
    "plt.show()"
   ]
  },
  {
   "cell_type": "markdown",
   "id": "ef5a8da3",
   "metadata": {},
   "source": [
    "# Congratulations, you have understood how to use DBSCAN to perform the Clustering!"
   ]
  }
 ],
 "metadata": {
  "kernelspec": {
   "display_name": "Python 3 (ipykernel)",
   "language": "python",
   "name": "python3"
  },
  "language_info": {
   "codemirror_mode": {
    "name": "ipython",
    "version": 3
   },
   "file_extension": ".py",
   "mimetype": "text/x-python",
   "name": "python",
   "nbconvert_exporter": "python",
   "pygments_lexer": "ipython3",
   "version": "3.9.7"
  }
 },
 "nbformat": 4,
 "nbformat_minor": 5
}
